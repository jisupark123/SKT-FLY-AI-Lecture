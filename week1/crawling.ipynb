{
 "cells": [
  {
   "cell_type": "markdown",
   "metadata": {},
   "source": [
    "## 로또 당첨 번호 수집"
   ]
  },
  {
   "cell_type": "code",
   "execution_count": 2,
   "metadata": {},
   "outputs": [
    {
     "name": "stdout",
     "output_type": "stream",
     "text": [
      "12번 16번 21번 24번 41번 43번 15번 "
     ]
    }
   ],
   "source": [
    "import requests as rq\n",
    "from bs4 import BeautifulSoup\n",
    "\n",
    "res = rq.get('https://dhlottery.co.kr/common.do?method=main')\n",
    "soup = BeautifulSoup(res.content, 'html.parser')\n",
    "result = soup.select('.ball_645')\n",
    "\n",
    "for num in result:\n",
    "    print(num.text, end='번 ')"
   ]
  },
  {
   "cell_type": "markdown",
   "metadata": {},
   "source": [
    "## 네이버 뉴스 크롤링"
   ]
  },
  {
   "cell_type": "code",
   "execution_count": 3,
   "metadata": {},
   "outputs": [
    {
     "name": "stdout",
     "output_type": "stream",
     "text": [
      "Collecting newspaper3k\n",
      "  Downloading newspaper3k-0.2.8-py3-none-any.whl (211 kB)\n",
      "\u001b[2K     \u001b[38;2;114;156;31m━━━━━━━━━━━━━━━━━━━━━━━━━━━━━━━━━━━━━━━\u001b[0m \u001b[32m211.1/211.1 kB\u001b[0m \u001b[31m7.2 MB/s\u001b[0m eta \u001b[36m0:00:00\u001b[0m\n",
      "\u001b[?25hRequirement already satisfied: beautifulsoup4>=4.4.1 in /Users/my_home/opt/anaconda3/lib/python3.9/site-packages (from newspaper3k) (4.12.2)\n",
      "Requirement already satisfied: Pillow>=3.3.0 in /Users/my_home/opt/anaconda3/lib/python3.9/site-packages (from newspaper3k) (8.4.0)\n",
      "Requirement already satisfied: PyYAML>=3.11 in /Users/my_home/opt/anaconda3/lib/python3.9/site-packages (from newspaper3k) (6.0)\n",
      "Requirement already satisfied: cssselect>=0.9.2 in /Users/my_home/opt/anaconda3/lib/python3.9/site-packages (from newspaper3k) (1.2.0)\n",
      "Requirement already satisfied: lxml>=3.6.0 in /Users/my_home/opt/anaconda3/lib/python3.9/site-packages (from newspaper3k) (4.6.3)\n",
      "Requirement already satisfied: nltk>=3.2.1 in /Users/my_home/opt/anaconda3/lib/python3.9/site-packages (from newspaper3k) (3.6.5)\n",
      "Requirement already satisfied: requests>=2.10.0 in /Users/my_home/opt/anaconda3/lib/python3.9/site-packages (from newspaper3k) (2.30.0)\n",
      "Collecting feedparser>=5.2.1 (from newspaper3k)\n",
      "  Obtaining dependency information for feedparser>=5.2.1 from https://files.pythonhosted.org/packages/7c/d4/8c31aad9cc18f451c49f7f9cfb5799dadffc88177f7917bc90a66459b1d7/feedparser-6.0.11-py3-none-any.whl.metadata\n",
      "  Downloading feedparser-6.0.11-py3-none-any.whl.metadata (2.4 kB)\n",
      "Collecting tldextract>=2.0.1 (from newspaper3k)\n",
      "  Obtaining dependency information for tldextract>=2.0.1 from https://files.pythonhosted.org/packages/d0/de/3f37b2568115c7ebeae39508dc1092f04f3dc286f22ef30171baca9c9cf2/tldextract-5.1.1-py3-none-any.whl.metadata\n",
      "  Downloading tldextract-5.1.1-py3-none-any.whl.metadata (11 kB)\n",
      "Collecting feedfinder2>=0.0.4 (from newspaper3k)\n",
      "  Downloading feedfinder2-0.0.4.tar.gz (3.3 kB)\n",
      "  Preparing metadata (setup.py) ... \u001b[?25ldone\n",
      "\u001b[?25hCollecting jieba3k>=0.35.1 (from newspaper3k)\n",
      "  Downloading jieba3k-0.35.1.zip (7.4 MB)\n",
      "\u001b[2K     \u001b[38;2;114;156;31m━━━━━━━━━━━━━━━━━━━━━━━━━━━━━━━━━━━━━━━━\u001b[0m \u001b[32m7.4/7.4 MB\u001b[0m \u001b[31m22.2 MB/s\u001b[0m eta \u001b[36m0:00:00\u001b[0mm eta \u001b[36m0:00:01\u001b[0m0:01\u001b[0m:01\u001b[0m\n",
      "\u001b[?25h  Preparing metadata (setup.py) ... \u001b[?25ldone\n",
      "\u001b[?25hRequirement already satisfied: python-dateutil>=2.5.3 in /Users/my_home/opt/anaconda3/lib/python3.9/site-packages (from newspaper3k) (2.8.2)\n",
      "Collecting tinysegmenter==0.3 (from newspaper3k)\n",
      "  Downloading tinysegmenter-0.3.tar.gz (16 kB)\n",
      "  Preparing metadata (setup.py) ... \u001b[?25ldone\n",
      "\u001b[?25hRequirement already satisfied: soupsieve>1.2 in /Users/my_home/opt/anaconda3/lib/python3.9/site-packages (from beautifulsoup4>=4.4.1->newspaper3k) (2.2.1)\n",
      "Requirement already satisfied: six in /Users/my_home/opt/anaconda3/lib/python3.9/site-packages (from feedfinder2>=0.0.4->newspaper3k) (1.16.0)\n",
      "Collecting sgmllib3k (from feedparser>=5.2.1->newspaper3k)\n",
      "  Downloading sgmllib3k-1.0.0.tar.gz (5.8 kB)\n",
      "  Preparing metadata (setup.py) ... \u001b[?25ldone\n",
      "\u001b[?25hRequirement already satisfied: click in /Users/my_home/opt/anaconda3/lib/python3.9/site-packages (from nltk>=3.2.1->newspaper3k) (8.1.3)\n",
      "Requirement already satisfied: joblib in /Users/my_home/opt/anaconda3/lib/python3.9/site-packages (from nltk>=3.2.1->newspaper3k) (1.1.0)\n",
      "Requirement already satisfied: regex>=2021.8.3 in /Users/my_home/opt/anaconda3/lib/python3.9/site-packages (from nltk>=3.2.1->newspaper3k) (2023.5.5)\n",
      "Requirement already satisfied: tqdm in /Users/my_home/opt/anaconda3/lib/python3.9/site-packages (from nltk>=3.2.1->newspaper3k) (4.65.0)\n",
      "Requirement already satisfied: charset-normalizer<4,>=2 in /Users/my_home/opt/anaconda3/lib/python3.9/site-packages (from requests>=2.10.0->newspaper3k) (3.1.0)\n",
      "Requirement already satisfied: idna<4,>=2.5 in /Users/my_home/opt/anaconda3/lib/python3.9/site-packages (from requests>=2.10.0->newspaper3k) (3.2)\n",
      "Requirement already satisfied: urllib3<3,>=1.21.1 in /Users/my_home/opt/anaconda3/lib/python3.9/site-packages (from requests>=2.10.0->newspaper3k) (1.26.7)\n",
      "Requirement already satisfied: certifi>=2017.4.17 in /Users/my_home/opt/anaconda3/lib/python3.9/site-packages (from requests>=2.10.0->newspaper3k) (2021.10.8)\n",
      "Collecting requests-file>=1.4 (from tldextract>=2.0.1->newspaper3k)\n",
      "  Downloading requests_file-1.5.1-py2.py3-none-any.whl (3.7 kB)\n",
      "Requirement already satisfied: filelock>=3.0.8 in /Users/my_home/opt/anaconda3/lib/python3.9/site-packages (from tldextract>=2.0.1->newspaper3k) (3.12.0)\n",
      "Downloading feedparser-6.0.11-py3-none-any.whl (81 kB)\n",
      "\u001b[2K   \u001b[38;2;114;156;31m━━━━━━━━━━━━━━━━━━━━━━━━━━━━━━━━━━━━━━━━\u001b[0m \u001b[32m81.3/81.3 kB\u001b[0m \u001b[31m9.6 MB/s\u001b[0m eta \u001b[36m0:00:00\u001b[0m\n",
      "\u001b[?25hDownloading tldextract-5.1.1-py3-none-any.whl (97 kB)\n",
      "\u001b[2K   \u001b[38;2;114;156;31m━━━━━━━━━━━━━━━━━━━━━━━━━━━━━━━━━━━━━━━━\u001b[0m \u001b[32m97.7/97.7 kB\u001b[0m \u001b[31m12.4 MB/s\u001b[0m eta \u001b[36m0:00:00\u001b[0m\n",
      "\u001b[?25hBuilding wheels for collected packages: tinysegmenter, feedfinder2, jieba3k, sgmllib3k\n",
      "  Building wheel for tinysegmenter (setup.py) ... \u001b[?25ldone\n",
      "\u001b[?25h  Created wheel for tinysegmenter: filename=tinysegmenter-0.3-py3-none-any.whl size=13552 sha256=759b34226f75229658b3d48ee4875351d742c97eb5e849a17797a0baaba46aad\n",
      "  Stored in directory: /Users/my_home/Library/Caches/pip/wheels/94/ad/df/a2a01300cea47d5695f242f7e925a805970106fd9e4b151468\n",
      "  Building wheel for feedfinder2 (setup.py) ... \u001b[?25ldone\n",
      "\u001b[?25h  Created wheel for feedfinder2: filename=feedfinder2-0.0.4-py3-none-any.whl size=3356 sha256=a884150bc0b058169087ee8863fc1db41070d111c88157138c4d649e9a04bb6d\n",
      "  Stored in directory: /Users/my_home/Library/Caches/pip/wheels/43/4a/c2/61a371b2524ac90805391c660d8dc4505705297f25e2b85a5d\n",
      "  Building wheel for jieba3k (setup.py) ... \u001b[?25ldone\n",
      "\u001b[?25h  Created wheel for jieba3k: filename=jieba3k-0.35.1-py3-none-any.whl size=7398405 sha256=1081b35b5f4b5b556cb4291e8fabe59d93fbc053236c741c9dea58588c2f16e3\n",
      "  Stored in directory: /Users/my_home/Library/Caches/pip/wheels/c2/22/59/8214a8d6357e9f540ce1f37f9a4362b6156b4ca81b37f1945f\n",
      "  Building wheel for sgmllib3k (setup.py) ... \u001b[?25ldone\n",
      "\u001b[?25h  Created wheel for sgmllib3k: filename=sgmllib3k-1.0.0-py3-none-any.whl size=6065 sha256=d0876fb7a0d269d88429adbaa03945b0a86d87fe09b81695643813854801e9e5\n",
      "  Stored in directory: /Users/my_home/Library/Caches/pip/wheels/65/7a/a7/78c287f64e401255dff4c13fdbc672fed5efbfd21c530114e1\n",
      "Successfully built tinysegmenter feedfinder2 jieba3k sgmllib3k\n",
      "\u001b[33mDEPRECATION: pyodbc 4.0.0-unsupported has a non-standard version number. pip 23.3 will enforce this behaviour change. A possible replacement is to upgrade to a newer version of pyodbc or contact the author to suggest that they release a version with a conforming version number. Discussion can be found at https://github.com/pypa/pip/issues/12063\u001b[0m\u001b[33m\n",
      "\u001b[0mInstalling collected packages: tinysegmenter, sgmllib3k, jieba3k, feedparser, requests-file, feedfinder2, tldextract, newspaper3k\n",
      "Successfully installed feedfinder2-0.0.4 feedparser-6.0.11 jieba3k-0.35.1 newspaper3k-0.2.8 requests-file-1.5.1 sgmllib3k-1.0.0 tinysegmenter-0.3 tldextract-5.1.1\n",
      "\n",
      "\u001b[1m[\u001b[0m\u001b[34;49mnotice\u001b[0m\u001b[1;39;49m]\u001b[0m\u001b[39;49m A new release of pip is available: \u001b[0m\u001b[31;49m23.2.1\u001b[0m\u001b[39;49m -> \u001b[0m\u001b[32;49m23.3.2\u001b[0m\n",
      "\u001b[1m[\u001b[0m\u001b[34;49mnotice\u001b[0m\u001b[1;39;49m]\u001b[0m\u001b[39;49m To update, run: \u001b[0m\u001b[32;49mpip install --upgrade pip\u001b[0m\n"
     ]
    }
   ],
   "source": [
    "!pip install newspaper3k"
   ]
  },
  {
   "cell_type": "code",
   "execution_count": 19,
   "metadata": {},
   "outputs": [
    {
     "name": "stdout",
     "output_type": "stream",
     "text": [
      "■ 진행 : 오동건 앵커\n",
      "\n",
      "■ 출연 : 김동엽 북한대학원대학교 교수\n",
      "\n",
      "\n",
      "\n",
      "* 아래 텍스트는 실제 방송 내용과 차이가 있을 수 있으니 보다 정확한 내용은 방송으로 확인하시기 바랍니다. 인용 시 [YTN 뉴스라이브] 명시해주시기 바랍니다.\n",
      "\n",
      "\n",
      "\n",
      "◇앵커> 어제 쏜 미사일, 570km를 날아가서 동해 상에 떨어진 것으로 지금 합참이 확인했는데 그러면 연결해서 어제 쏜 미사일도 SRBM 정도로 추정되고 있는데 연결해서 보면 어떤 메시지가 있다고 보십니까?\n",
      "\n",
      "\n",
      "\n",
      "◆김동엽> 저는 참 재미있다고 봐요. 물론 과거에 단거리와 ICBM을 같이 쏜 것은 처음은 아닙니다. 몇 차례가 있었지만 이번 같은 경우에는 조금 의미가 있지 않을까라고 생각이 됩니다. 어젯밤 단거리 발사 직후에 북한이 국방성 대변인 담화를 발표했습니다.\n",
      "\n",
      "\n",
      "\n",
      "그래서 단거리 570km 날아간 다음에 떨어지고 난 다음에 국방성 대변인이 바로 2차 NCG라고 한미 핵협상그룹 회의를 비난하면서 올 한해 동안 미 전략폭격기라든가 또 핵잠수함 미주리호가 부산에 입항한 이런 미 전략자산들이 한반도에 활동한 것을 대단히 비난을 했었거든요.\n",
      "\n",
      "\n",
      "\n",
      "그러고 나서 10시간 이따가 ICBM이 발사된 것이거든요. 이렇게 한 것은 저는 개인적으로 ICBM 발사를 사전에, 앞서 말씀드렸지만 김태효 1차장도 알고 있었고 우리 군이 인지하고 감시하고 있다는 것을 알고 있기 때문에 사실 자신들이 시험발사를 하는 것은 대단히 중요한 겁니다.\n",
      "\n",
      "\n",
      "\n",
      "조금 감출 필요가 있거든요. 이런 측면에서 이번 단거리 발사와 대변인 담화 그리고 이어지는 10시간 이후의 ICBM 발사는 이런 것을 계속 쳐다보고 있는 우리 군이나 한미연합자산들을 혼란스럽게 만드는, 안심시킨다고 할까요. 이번 단거리 쐈으니까 짧은 기간 내에 안 쏘겠지, 이런 것들의 혼란스럽게 만들기 위한 기만행동일 가능성도 저는 있다고 봅니다.\n",
      "\n",
      "\n",
      "\n",
      "특히 최근에 연내에 한미일이 북한 미사일 경보 정보를 실시간 공유하겠다, 가동하겠다, 이렇게 한 것들에 대한 불만일 수도 있고 이러한 것들을 한번 얼마나 잘 돌아가고 있는지를 체크하기 위한 이런 측면에서 북한이 연속적으로 단거리 발사와 ICBM을 섞어서 한 것이 아닌가 생각을 합니다.\n",
      "\n",
      "\n",
      "\n",
      "대담 발췌: 장아영 디지털뉴스팀 에디터\n",
      "\n",
      "\n",
      "\n",
      "#Y녹취록\n",
      "\n",
      "\n",
      "\n",
      "※ '당신의 제보가 뉴스가 됩니다'\n",
      "\n",
      "[카카오톡] YTN 검색해 채널 추가\n",
      "\n",
      "[전화] 02-398-8585\n",
      "\n",
      "[메일] social@ytn.co.kr\n",
      "\n",
      "\n",
      "\n",
      "\n",
      "\n",
      "Copyright ⓒ YTN. All rights reserved. 무단 전재, 재배포 및 AI 데이터 활용 금지.\n",
      "\n",
      "이 기사는 언론사에서 섹션분류를 하지 않았습니다. 기사 섹션 분류 안내 기사의 섹션 정보는 해당 언론사의 분류를 따르고 있습니다. 언론사는 개별 기사를 2개 이상 섹션으로 중복 분류할 수 있습니다. 닫기\n",
      "\n",
      "대한민국 24시간 뉴스 채널 [YTN LIVE] 보기 〉 QR 코드를 클릭하면 크게 볼 수 있어요. QR을 촬영해보세요. 대한민국 24시간 뉴스 채널 [YTN LIVE] 보기 〉 닫기\n",
      "\n",
      "대화로 배우는 이 세상 모든 지식 [이게 웬 날리지?] QR 코드를 클릭하면 크게 볼 수 있어요. QR을 촬영해보세요. 대화로 배우는 이 세상 모든 지식 [이게 웬 날리지?] 닫기\n"
     ]
    }
   ],
   "source": [
    "import newspaper\n",
    "\n",
    "link = 'https://n.news.naver.com/article/052/0001974055?cds=news_media_pc'\n",
    "article = newspaper.Article(link, language='ko')\n",
    "article.download()\n",
    "article.parse()\n",
    "print(article.text)\n"
   ]
  },
  {
   "cell_type": "code",
   "execution_count": 32,
   "metadata": {},
   "outputs": [
    {
     "name": "stdout",
     "output_type": "stream",
     "text": [
      "[]\n",
      "https://imgnews.pstatic.net/image/052/2023/12/18/202312181519274693_t_20231218154112410.jpg?type=w800\n",
      "[]\n",
      "\n"
     ]
    }
   ],
   "source": [
    "print(article.authors) # 기자\n",
    "print(article.top_image) # 썸네일\n",
    "print(article.keywords) # 키워드\n",
    "print(article.summary) # 요약"
   ]
  },
  {
   "cell_type": "markdown",
   "metadata": {},
   "source": [
    "## 웹툰 이미지 수집"
   ]
  },
  {
   "cell_type": "code",
   "execution_count": 21,
   "metadata": {},
   "outputs": [
    {
     "name": "stdout",
     "output_type": "stream",
     "text": [
      "./webtoon/001.jpg :OK\n",
      "./webtoon/002.jpg :OK\n",
      "./webtoon/003.jpg :OK\n",
      "./webtoon/004.jpg :OK\n",
      "./webtoon/005.jpg :OK\n",
      "./webtoon/006.jpg :OK\n",
      "./webtoon/007.jpg :OK\n",
      "./webtoon/008.jpg :OK\n",
      "./webtoon/009.jpg :OK\n",
      "./webtoon/010.jpg :OK\n",
      "./webtoon/011.jpg :OK\n",
      "./webtoon/012.jpg :OK\n",
      "./webtoon/013.jpg :OK\n",
      "./webtoon/014.jpg :OK\n",
      "./webtoon/015.jpg :OK\n",
      "./webtoon/016.jpg :OK\n",
      "./webtoon/017.jpg :OK\n",
      "./webtoon/018.jpg :OK\n",
      "./webtoon/019.jpg :OK\n",
      "./webtoon/020.jpg :OK\n",
      "./webtoon/021.jpg :OK\n",
      "./webtoon/022.jpg :OK\n",
      "./webtoon/023.jpg :OK\n",
      "./webtoon/024.jpg :OK\n",
      "./webtoon/025.jpg :OK\n",
      "./webtoon/026.jpg :OK\n",
      "./webtoon/027.jpg :OK\n",
      "./webtoon/028.jpg :OK\n",
      "./webtoon/029.jpg :OK\n",
      "./webtoon/030.jpg :OK\n",
      "./webtoon/031.jpg :OK\n",
      "./webtoon/032.jpg :OK\n",
      "./webtoon/033.jpg :OK\n",
      "./webtoon/034.jpg :OK\n",
      "./webtoon/035.jpg :OK\n",
      "./webtoon/036.jpg :OK\n",
      "./webtoon/037.jpg :OK\n",
      "./webtoon/038.jpg :OK\n",
      "./webtoon/039.jpg :OK\n",
      "./webtoon/040.jpg :OK\n",
      "./webtoon/041.jpg :OK\n",
      "./webtoon/042.jpg :OK\n",
      "./webtoon/043.jpg :OK\n",
      "./webtoon/044.jpg :OK\n",
      "./webtoon/045.jpg :OK\n",
      "./webtoon/046.jpg :OK\n",
      "./webtoon/047.jpg :OK\n",
      "./webtoon/048.jpg :OK\n",
      "./webtoon/049.jpg :OK\n",
      "./webtoon/050.jpg :OK\n",
      "./webtoon/051.jpg :OK\n",
      "./webtoon/052.jpg :OK\n",
      "./webtoon/053.jpg :OK\n",
      "./webtoon/054.jpg :OK\n",
      "./webtoon/055.jpg :OK\n",
      "./webtoon/056.jpg :OK\n",
      "./webtoon/057.jpg :OK\n",
      "./webtoon/058.jpg :OK\n",
      "./webtoon/059.jpg :OK\n",
      "./webtoon/060.jpg :OK\n",
      "./webtoon/061.jpg :OK\n",
      "./webtoon/062.jpg :OK\n",
      "./webtoon/063.jpg :OK\n",
      "./webtoon/064.jpg :OK\n",
      "./webtoon/065.jpg :OK\n",
      "./webtoon/066.jpg :OK\n",
      "./webtoon/067.jpg :OK\n",
      "./webtoon/068.jpg :OK\n",
      "./webtoon/069.jpg :OK\n",
      "./webtoon/070.jpg :OK\n",
      "./webtoon/071.jpg :OK\n",
      "./webtoon/072.jpg :OK\n",
      "./webtoon/073.jpg :OK\n",
      "./webtoon/074.jpg :OK\n",
      "./webtoon/075.jpg :OK\n",
      "./webtoon/076.jpg :OK\n",
      "./webtoon/077.jpg :OK\n",
      "./webtoon/078.jpg :OK\n",
      "./webtoon/079.jpg :OK\n",
      "./webtoon/080.jpg :OK\n",
      "./webtoon/081.jpg :OK\n",
      "./webtoon/082.jpg :OK\n",
      "./webtoon/083.jpg :OK\n",
      "./webtoon/084.jpg :OK\n",
      "./webtoon/085.jpg :OK\n",
      "./webtoon/086.jpg :OK\n",
      "./webtoon/087.jpg :OK\n",
      "./webtoon/088.jpg :OK\n",
      "./webtoon/089.jpg :OK\n",
      "./webtoon/090.jpg :OK\n",
      "./webtoon/091.jpg :OK\n",
      "./webtoon/092.jpg :OK\n",
      "./webtoon/093.jpg :OK\n",
      "./webtoon/094.jpg :OK\n",
      "./webtoon/095.jpg :OK\n",
      "./webtoon/096.jpg :OK\n",
      "./webtoon/097.jpg :OK\n",
      "./webtoon/098.jpg :OK\n",
      "./webtoon/099.jpg :OK\n"
     ]
    }
   ],
   "source": [
    "import os\n",
    "\n",
    "url = 'https://comic.naver.com/webtoon/detail.nhn?titleId=747961&no=2'\n",
    "html = rq.get(url).text\n",
    "soup = BeautifulSoup(html, 'html.parser')\n",
    "\n",
    "# webtoon 폴더가 없다면 생성\n",
    "if not(os.path.isdir('./webtoon')):\n",
    "    os.mkdir(os.path.join('./webtoon'))\n",
    "\n",
    "for i, tag in enumerate(soup.select('.wt_viewer img'), 1):\n",
    "    img_url = tag['src']\n",
    "    save_img = './webtoon/' + str(i).zfill(3) + img_url[-4:]\n",
    "    print(save_img + ' :OK')\n",
    "    headers = {'Referer': img_url} # 일반 사용자인 것처럼 속이기 (중요!)\n",
    "\n",
    "    # 실제 이미지 데이터 불러오기\n",
    "    img_data = rq.get(img_url, headers=headers).content\n",
    "\n",
    "    # 이미지 파일 저장\n",
    "    with open(save_img, 'wb') as f:\n",
    "        f.write(img_data)"
   ]
  },
  {
   "cell_type": "markdown",
   "metadata": {},
   "source": [
    "## Selenium으로 네이버 로그인"
   ]
  },
  {
   "cell_type": "code",
   "execution_count": 38,
   "metadata": {},
   "outputs": [],
   "source": [
    "from selenium import webdriver\n",
    "from selenium.webdriver.common.keys import Keys\n",
    "from selenium.webdriver.chrome.service import Service\n",
    "from webdriver_manager.chrome import ChromeDriverManager\n",
    "\n",
    "driver = webdriver.Chrome(service=Service(ChromeDriverManager().install()))"
   ]
  },
  {
   "cell_type": "code",
   "execution_count": null,
   "metadata": {},
   "outputs": [],
   "source": [
    "import time\n",
    "\n",
    "driver.get('https://nid.naver.com/nidlogin.login?mode=form&url=https%3A%2F%2Fwww.naver.com')\n",
    "time.sleep(1)\n",
    "\n",
    "id = driver.find_element('id', 'id')\n",
    "id.send_keys('네이버 아이디')\n",
    "\n",
    "pw = driver.find_element('id', 'pw')\n",
    "pw.send_keys('네이버 비밀번호')\n",
    "time.sleep(1)\n",
    "\n",
    "btn = driver.find_element('id', 'log.login')\n",
    "btn.click() # 로봇 검사 때문에 안됨"
   ]
  },
  {
   "cell_type": "code",
   "execution_count": 39,
   "metadata": {},
   "outputs": [],
   "source": [
    "# 사람이 로그인 한 것처럼 속이기 위해 복사/붙여넣기\n",
    "import pyperclip\n",
    "from selenium.webdriver.common.by import By\n",
    "from selenium.webdriver.common.keys import Keys\n",
    "\n",
    "\n",
    "driver.get('https://nid.naver.com/nidlogin.login?mode=form&url=https%3A%2F%2Fwww.naver.com')\n",
    "time.sleep(1)\n",
    "\n",
    "id = driver.find_element('id', 'id')\n",
    "pyperclip.copy('네이버 아이디')\n",
    "id.send_keys(Keys.COMMAND + 'v') # cmd + v 로 붙여넣기\n",
    "\n",
    "pw = driver.find_element('id', 'pw')\n",
    "pyperclip.copy('네이버 비밀번호')\n",
    "pw.send_keys(Keys.COMMAND + 'v') # cmd + v 로 붙여넣기\n",
    "time.sleep(1)\n",
    "\n",
    "btn = driver.find_element(By.ID, 'log.login')\n",
    "btn.click() # 로봇 검사 우회 성공\n"
   ]
  },
  {
   "cell_type": "markdown",
   "metadata": {},
   "source": [
    "## 네이버에서 강아지 검색하기"
   ]
  },
  {
   "cell_type": "code",
   "execution_count": null,
   "metadata": {},
   "outputs": [],
   "source": [
    "driver.get('https://naver.com')\n",
    "elem1 = driver.find_element(By.ID, 'query')\n",
    "elem1.send_keys('강아지')\n",
    "\n",
    "time.sleep(1)\n",
    "\n",
    "elem2 = driver.find_element(By.ID, 'search-btn')\n",
    "elem2.click()\n",
    "\n",
    "elem3 = driver.find_element(By.XPATH, '//*[@id=\"lnb\"]/div[1]/div/div[1]/div/div[1]/div[2]/a')\n",
    "elem3.click()\n",
    "\n",
    "elem4 = driver.find_element(By.XPATH, '//*[@id=\"main_pack\"]/section[2]/div[1]/div/div/div[1]/div[1]/div/div/div/img')\n",
    "elem4 = driver.find_element(By.XPATH, '//*[@id=\"main_pack\"]/section[1]/div/div/div[1]/div[2]/div[1]/img')\n",
    "\n"
   ]
  },
  {
   "cell_type": "markdown",
   "metadata": {},
   "source": [
    "## 네이버페이 주문 내역 가져오기"
   ]
  },
  {
   "cell_type": "code",
   "execution_count": 41,
   "metadata": {},
   "outputs": [
    {
     "data": {
      "text/plain": [
       "\"네이버페이You need to enable JavaScript to run this app.네이버페이결제내역혜택증권부동산네이버쇼핑장바구니전체쇼핑예약/주문현장결제콘텐츠정기/예정세금/요금전체네이버 플러스 멤버십 가입 또는 해지시최대 적립 가능한 금액은 노출되는 금액과 다를 수 있습니다.'정기결제예정' 내역은결제예정일 3일 전부터 확인 가능합니다.쇼핑MY정기구독렌탈상품결제완료자세히 보기6. 1. 결제일레클 라이딩1,050원결제상세자세히 보기내역 삭제결제취소자세히 보기2022. 7. 7. 결제[07/08(금), 시외우등] 숲속길마을7단지(11:42) - 인천공항9,400원결제상세자세히 보기내역 삭제결제완료자세히 보기2022. 4. 29. 결제내부자들1,540원결제상세자세히 보기내역 삭제구매확정완료자세히 보기2022. 4. 17. 결제새 모이 주는 군인 캔버스 액자78,000원네이버페이 플러스주문상세1분과학\\xa0문의자세히 보기재구매더보기내역 삭제결제완료자세히 보기2022. 4. 8. 결제킬러의 보디가드2,750원결제상세자세히 보기내역 삭제구매확정완료자세히 보기2021. 12. 26. 결제개발자 쓰레빠17,900원네이버페이 플러스주문상세노마드코더\\xa0문의자세히 보기재구매더보기내역 삭제구매확정완료자세히 보기2021. 11. 8. 결제자전거 전동킥보드 헬멧 고글 로드 라이딩 보드 인라인 하이바 1034,400원네이버페이 플러스주문상세라퓨라메\\xa0문의자세히 보기재구매더보기내역 삭제1 페이지 중\\xa01\\xa0페이지이전 페이지다음 페이지처음\\xa0페이지마지막\\xa0페이지박지수님a00366네이버플러스 멤버십최대\\xa05%적립 무료 시작네이버페이포인트잔액7,000원네이버페이 포인트 내역포인트 선물네이버페이머니 하나 통장하나 335****7707잔액70원네이버페이 머니 내역충전송금페이 설정내 정보, 배송지, 카드/계좌, 내 자산쇼핑MY찜한상품최근본상품상품리뷰\\xa0포인트·머니포인트 내역머니 내역페이상품권NEW포인트 선물머니 충전제휴포인트 전환무료송금송금 내역선물함친구 목록혜택쿠폰 사용처내 자산제휴카드 조회보험 조회우리집보험금 청구MY CAR증권증권 홈해외주식증권 MY국내주식투자정보가상자산부동산지도로 찾기분양전세반환보증관심 부동산뉴스기타고객센터판매자 문의공지사항대한항공 마일리지 적립판매자 금융지원정책지원금사업자대출사업자 보험스마트스토어 빠른정산네이버페이 사용처전체보기신라면세점티몬올리브영정관장롯데면세점크림오늘의집나이키아이더스에어비엔비예스24넷플릭스메가박스알리익스프레스위버스샵구글플레이아파트아이코레일야놀자원스토어스팀삼성화재트립넥슨1 / 3이전다음로그아웃전체서비스쇼핑&페이 고객센터약관 및 정책개인정보처리방침신용정보 활용체제네이버페이 광고&포인트NAVER FINANCIAL네이버파이낸셜㈜은 전자결제서비스제공자 및 통신판매중개자이며 통신판매의 당사자가 아닙니다. 상품, 상품정보 및 거래에 관한 의무와 책임은 판매자에게 있습니다.네이버파이낸셜㈜ 사업자 정보대표이사박상진주소정보경기도 성남시 분당구 정자일로 95,NAVER 1784 (13561)전화번호1588-3819(대표전화/고객센터)문의1:1 문의 바로가기사업자 등록번호524-86-015281890189118921893189418951896189718981899190019011902190319041905190619071908190919101911191219131914191519161917191819191920192119221923192419251926192719281929193019311932193319341935193619371938193919401941194219431944194519461947194819491950195119521953195419551956195719581959196019611962196319641965196619671968196919701971197219731974197519761977197819791980198119821983198419851986198719881989199019911992199319941995199619971998199920002001200220032004200520062007200820092010201120122013201420152016201720182019202020212022202320242025202620272028202920302031203220332034203520362037203820392040204120422043Today\""
      ]
     },
     "execution_count": 41,
     "metadata": {},
     "output_type": "execute_result"
    }
   ],
   "source": [
    "driver.get('https://order.pay.naver.com/home')\n",
    "html = driver.page_source\n",
    "soup = BeautifulSoup(html, 'html.parser')\n",
    "soup.text\n"
   ]
  },
  {
   "cell_type": "markdown",
   "metadata": {},
   "source": [
    "## 네이버쇼핑에서 검색어 입력 후 제품 이미지 받아오기"
   ]
  },
  {
   "cell_type": "code",
   "execution_count": 75,
   "metadata": {},
   "outputs": [
    {
     "name": "stdout",
     "output_type": "stream",
     "text": [
      "./product/아이폰_001.jpg :OK\n",
      "./product/아이폰_002.png :OK\n",
      "./product/아이폰_003.png :OK\n",
      "./product/아이폰_004.jpg :OK\n",
      "'NoneType' object is not subscriptable\n"
     ]
    }
   ],
   "source": [
    "product_name = '아이폰'\n",
    "driver.get('https://shopping.naver.com/home')\n",
    "search_input = driver.find_element(By.XPATH, '//*[@id=\"gnb-gnb\"]/div[2]/div/div[2]/div/div[2]/form/div[1]/div/input')\n",
    "search_input.send_keys(product_name)\n",
    "\n",
    "search_btn = driver.find_element(By.XPATH, '//*[@id=\"gnb-gnb\"]/div[2]/div/div[2]/div/div[2]/form/div[1]/div/button[2]')\n",
    "search_btn.click()\n",
    "\n",
    "\n",
    "soup = BeautifulSoup(driver.page_source, 'html.parser')\n",
    "wrapper = soup.select_one('.basicList_list_basis__uNBZx div')\n",
    "\n",
    "product_cnt = 10 # 크롤링할 제품 개수\n",
    "\n",
    "# webtoon 폴더가 없다면 생성\n",
    "if not(os.path.isdir('./product')):\n",
    "    os.mkdir(os.path.join('./product'))\n",
    "\n",
    "try:\n",
    "    for i, item in enumerate(wrapper.children, 1):\n",
    "        img_tag = item.select_one('img')\n",
    "        img_url = img_tag['src']\n",
    "        img_extend = 'jpg' if 'jpg' in img_url else 'png' # 확장자\n",
    "        file_name = f'./product/{product_name}_{str(i).zfill(3)}.{img_extend}' # 저장할 파일명\n",
    "\n",
    "        print(file_name + ' :OK')\n",
    "        headers = {'Referer': img_url} # 일반 사용자인 것처럼 속이기 \n",
    "\n",
    "        # 실제 이미지 데이터 불러오기\n",
    "        img_data = rq.get(img_url, headers=headers).content\n",
    "\n",
    "        # 이미지 파일 저장\n",
    "        with open(file_name, 'wb') as f:\n",
    "            f.write(img_data)\n",
    "\n",
    "except Exception as e:\n",
    "    print(e)"
   ]
  }
 ],
 "metadata": {
  "kernelspec": {
   "display_name": "skt_fly_ai_practice",
   "language": "python",
   "name": "skt_fly_ai_practice"
  },
  "language_info": {
   "codemirror_mode": {
    "name": "ipython",
    "version": 3
   },
   "file_extension": ".py",
   "mimetype": "text/x-python",
   "name": "python",
   "nbconvert_exporter": "python",
   "pygments_lexer": "ipython3",
   "version": "3.9.7"
  }
 },
 "nbformat": 4,
 "nbformat_minor": 4
}

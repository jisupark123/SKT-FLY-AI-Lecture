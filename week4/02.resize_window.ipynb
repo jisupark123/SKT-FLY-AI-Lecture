{
 "cells": [
  {
   "cell_type": "code",
   "execution_count": null,
   "metadata": {},
   "outputs": [],
   "source": [
    "import numpy as np\n",
    "import cv2\n",
    "\n",
    "image = np.zeros((200, 300), np.uint8)\n",
    "image.fill(255)                                 # 모든 원소에 255(흰색) 지정\n",
    "\n",
    "title1, title2 = 'AUTOSIZE', 'NORMAL'           # 윈도우 이름\n",
    "cv2.namedWindow(title1, cv2.WINDOW_AUTOSIZE)\n",
    "cv2.namedWindow(title2, cv2.WINDOW_NORMAL)\n",
    "\n",
    "cv2.imshow(title1, image)\n",
    "cv2.imshow(title2, image)\n",
    "cv2.resizeWindow(title1, 400, 300)\n",
    "cv2.resizeWindow(title2, 400, 300)\n",
    "cv2.waitKey(0)\n",
    "cv2.destroyAllWindows()                         # 열린 모든 윈도우 제거"
   ]
  }
 ],
 "metadata": {
  "kernelspec": {
   "display_name": "opencv",
   "language": "python",
   "name": "python3"
  },
  "language_info": {
   "name": "python",
   "version": "3.8.18"
  }
 },
 "nbformat": 4,
 "nbformat_minor": 2
}

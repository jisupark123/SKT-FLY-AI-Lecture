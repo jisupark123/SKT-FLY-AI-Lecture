{
 "cells": [
  {
   "cell_type": "code",
   "execution_count": 2,
   "metadata": {},
   "outputs": [
    {
     "data": {
      "text/plain": [
       "device(type='mps')"
      ]
     },
     "execution_count": 2,
     "metadata": {},
     "output_type": "execute_result"
    }
   ],
   "source": [
    "import torch\n",
    "\n",
    "device = torch.device('mps')\n",
    "device"
   ]
  },
  {
   "cell_type": "code",
   "execution_count": 7,
   "metadata": {},
   "outputs": [
    {
     "data": {
      "text/plain": [
       "tensor([[1],\n",
       "        [2],\n",
       "        [3],\n",
       "        [4]], device='mps:0')"
      ]
     },
     "metadata": {},
     "output_type": "display_data"
    },
    {
     "data": {
      "text/plain": [
       "tensor([1, 2, 3, 4], device='mps:0')"
      ]
     },
     "metadata": {},
     "output_type": "display_data"
    },
    {
     "data": {
      "text/plain": [
       "tensor([[1, 2, 3, 4]], device='mps:0')"
      ]
     },
     "metadata": {},
     "output_type": "display_data"
    },
    {
     "data": {
      "text/plain": [
       "tensor([[1],\n",
       "        [2],\n",
       "        [3],\n",
       "        [4]], device='mps:0')"
      ]
     },
     "metadata": {},
     "output_type": "display_data"
    },
    {
     "data": {
      "text/plain": [
       "tensor([[[1, 2, 3, 4]]], device='mps:0')"
      ]
     },
     "metadata": {},
     "output_type": "display_data"
    }
   ],
   "source": [
    "tmp = torch.tensor([[1,2], [3,4]], device=device)\n",
    "tmp = tmp.reshape(4,1)\n",
    "display(tmp)\n",
    "\n",
    "tmp = torch.tensor([[1,2], [3,4]], device=device)\n",
    "tmp = tmp.reshape(-1)\n",
    "display(tmp)\n",
    "\n",
    "tmp = torch.tensor([[1,2], [3,4]], device=device)\n",
    "tmp = tmp.reshape(1,-1)\n",
    "display(tmp)\n",
    "\n",
    "tmp = torch.tensor([[1,2], [3,4]], device=device)\n",
    "tmp = tmp.reshape(-1,1)\n",
    "display(tmp)\n",
    "\n",
    "tmp = torch.tensor([[1,2], [3,4]], device=device)\n",
    "tmp = tmp.reshape(1,1,-1)\n",
    "display(tmp)\n",
    "\n"
   ]
  },
  {
   "cell_type": "code",
   "execution_count": null,
   "metadata": {},
   "outputs": [],
   "source": []
  }
 ],
 "metadata": {
  "kernelspec": {
   "display_name": "skt_fly_ai_pytorch",
   "language": "python",
   "name": "python3"
  },
  "language_info": {
   "codemirror_mode": {
    "name": "ipython",
    "version": 3
   },
   "file_extension": ".py",
   "mimetype": "text/x-python",
   "name": "python",
   "nbconvert_exporter": "python",
   "pygments_lexer": "ipython3",
   "version": "3.9.18"
  }
 },
 "nbformat": 4,
 "nbformat_minor": 2
}

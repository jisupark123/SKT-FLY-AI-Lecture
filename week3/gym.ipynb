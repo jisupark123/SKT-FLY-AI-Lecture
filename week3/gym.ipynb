{
  "nbformat": 4,
  "nbformat_minor": 0,
  "metadata": {
    "colab": {
      "provenance": []
    },
    "kernelspec": {
      "name": "python3",
      "display_name": "Python 3"
    },
    "language_info": {
      "name": "python"
    }
  },
  "cells": [
    {
      "cell_type": "code",
      "execution_count": 1,
      "metadata": {
        "colab": {
          "base_uri": "https://localhost:8080/"
        },
        "id": "mWN75rrKSM1a",
        "outputId": "64524569-f416-4fa3-c06e-7ba2feabd925"
      },
      "outputs": [
        {
          "output_type": "stream",
          "name": "stdout",
          "text": [
            "Requirement already satisfied: gym[accept_rom_license,atari,toy_text] in /usr/local/lib/python3.10/dist-packages (0.25.2)\n",
            "\u001b[33mWARNING: gym 0.25.2 does not provide the extra 'accept_rom_license'\u001b[0m\u001b[33m\n",
            "\u001b[0mRequirement already satisfied: numpy>=1.18.0 in /usr/local/lib/python3.10/dist-packages (from gym[accept_rom_license,atari,toy_text]) (1.23.5)\n",
            "Requirement already satisfied: cloudpickle>=1.2.0 in /usr/local/lib/python3.10/dist-packages (from gym[accept_rom_license,atari,toy_text]) (2.2.1)\n",
            "Requirement already satisfied: gym-notices>=0.0.4 in /usr/local/lib/python3.10/dist-packages (from gym[accept_rom_license,atari,toy_text]) (0.0.8)\n",
            "Collecting pygame==2.1.0 (from gym[accept_rom_license,atari,toy_text])\n",
            "  Downloading pygame-2.1.0-cp310-cp310-manylinux_2_17_x86_64.manylinux2014_x86_64.whl (18.3 MB)\n",
            "\u001b[2K     \u001b[90m━━━━━━━━━━━━━━━━━━━━━━━━━━━━━━━━━━━━━━━━\u001b[0m \u001b[32m18.3/18.3 MB\u001b[0m \u001b[31m21.3 MB/s\u001b[0m eta \u001b[36m0:00:00\u001b[0m\n",
            "\u001b[?25hCollecting ale-py~=0.7.5 (from gym[accept_rom_license,atari,toy_text])\n",
            "  Downloading ale_py-0.7.5-cp310-cp310-manylinux_2_17_x86_64.manylinux2014_x86_64.whl (1.6 MB)\n",
            "\u001b[2K     \u001b[90m━━━━━━━━━━━━━━━━━━━━━━━━━━━━━━━━━━━━━━━━\u001b[0m \u001b[32m1.6/1.6 MB\u001b[0m \u001b[31m26.9 MB/s\u001b[0m eta \u001b[36m0:00:00\u001b[0m\n",
            "\u001b[?25hRequirement already satisfied: importlib-resources in /usr/local/lib/python3.10/dist-packages (from ale-py~=0.7.5->gym[accept_rom_license,atari,toy_text]) (6.1.1)\n",
            "Installing collected packages: pygame, ale-py\n",
            "  Attempting uninstall: pygame\n",
            "    Found existing installation: pygame 2.5.2\n",
            "    Uninstalling pygame-2.5.2:\n",
            "      Successfully uninstalled pygame-2.5.2\n",
            "Successfully installed ale-py-0.7.5 pygame-2.1.0\n"
          ]
        }
      ],
      "source": [
        "!pip install gym[atari,toy_text,accept_rom_license]"
      ]
    },
    {
      "cell_type": "code",
      "source": [
        "import numpy as np\n",
        "import random\n",
        "import gym\n",
        "env = gym.make('Taxi-v3', new_step_api=True)\n",
        "\n",
        "# step types\n",
        "STEPTYPE_FIRST = 0\n",
        "STEPTYPE_MID = 1\n",
        "STEPTYPE_LAST = 2\n",
        "Q = np.random.uniform(size=(500, 6))"
      ],
      "metadata": {
        "id": "M4U6jEh7SS7J"
      },
      "execution_count": 6,
      "outputs": []
    },
    {
      "cell_type": "code",
      "source": [
        "env.reset()"
      ],
      "metadata": {
        "colab": {
          "base_uri": "https://localhost:8080/"
        },
        "id": "3nXDSANZSZkQ",
        "outputId": "266730ed-bafd-4e46-ea02-2c5656b95289"
      },
      "execution_count": 7,
      "outputs": [
        {
          "output_type": "execute_result",
          "data": {
            "text/plain": [
              "162"
            ]
          },
          "metadata": {},
          "execution_count": 7
        }
      ]
    },
    {
      "cell_type": "code",
      "source": [
        "env.step(0)"
      ],
      "metadata": {
        "colab": {
          "base_uri": "https://localhost:8080/"
        },
        "id": "YSSEaq1PShEH",
        "outputId": "311b9559-e179-4cff-8e07-57aca522691c"
      },
      "execution_count": 8,
      "outputs": [
        {
          "output_type": "execute_result",
          "data": {
            "text/plain": [
              "(262,\n",
              " -1,\n",
              " False,\n",
              " False,\n",
              " {'prob': 1.0, 'action_mask': array([1, 1, 1, 1, 0, 0], dtype=int8)})"
            ]
          },
          "metadata": {},
          "execution_count": 8
        }
      ]
    },
    {
      "cell_type": "code",
      "source": [
        "# wrapper for gym's blackjack environment\n",
        "def generate_start_step():\n",
        "    return { 'observation': env.reset(), 'reward': 0., 'step_type': STEPTYPE_FIRST }\n",
        "\n",
        "def generate_next_step(step, action):\n",
        "    obs, reward, done, _, info = env.step(action)\n",
        "    step_type = STEPTYPE_LAST if done else STEPTYPE_MID\n",
        "    return { 'observation': obs, 'reward': reward, 'step_type': step_type }\n",
        "\n",
        "epsilon = 0.1\n",
        "\n",
        "def get_eps_soft_action(step):\n",
        "    # epsilon-soft greedy policy\n",
        "    if random.random() < epsilon:\n",
        "        return np.random.choice(6, 1)[0]\n",
        "    else:\n",
        "        observ = step['observation']\n",
        "        return np.argmax(Q[observ])\n",
        "\n",
        "def get_greedy_action(step):\n",
        "    observ = step['observation']\n",
        "    return np.argmax(Q[observ])\n",
        "\n",
        "def get_random_action(step):\n",
        "    return random.randint(0, env.action_space.n-1)\n",
        "\n",
        "behavior_prob_hit = 1. / float(env.action_space.n)\n",
        "\n",
        "# return true if (observ, action) exists in epi\n",
        "def in_episode(epi, observ, action):\n",
        "    for s, a in zip(*epi):\n",
        "        if s['observation'] == observ and a == action:\n",
        "            return True\n",
        "    return False\n",
        "\n",
        "def generate_episode(policy_func=get_random_action):\n",
        "    episode = list()\n",
        "    actions = list()\n",
        "    frames = list()\n",
        "    step = generate_start_step()\n",
        "    frames.append(env.render(mode='ansi'))\n",
        "    episode.append(step)\n",
        "\n",
        "    while step['step_type'] != STEPTYPE_LAST:\n",
        "        action = policy_func(step)\n",
        "        step = generate_next_step(step, action)\n",
        "        frames.append(env.render(mode='ansi'))\n",
        "        episode.append(step)\n",
        "        actions.append(action)\n",
        "    return episode, actions, frames\n",
        "\n",
        "\n",
        "from IPython.display import clear_output\n",
        "from time import sleep\n",
        "\n",
        "def print_frames(frames):\n",
        "    for i, frame in enumerate(frames):\n",
        "        clear_output(wait=True)\n",
        "        print(frame)\n",
        "        sleep(.2)\n",
        "\n"
      ],
      "metadata": {
        "id": "Tkx-G0pcSqSC"
      },
      "execution_count": 9,
      "outputs": []
    },
    {
      "cell_type": "code",
      "source": [
        "maxiter = 100000\n",
        "gamma = 1\n",
        "epsilon = 0.3\n",
        "lr_rate = 0.8\n",
        "Q = np.random.uniform(size=(env.observation_space.n, env.action_space.n))"
      ],
      "metadata": {
        "id": "9nP-PxOCTeSx"
      },
      "execution_count": 10,
      "outputs": []
    },
    {
      "cell_type": "code",
      "source": [
        "for _ in range(maxiter):\n",
        "    # starting step\n",
        "    step = generate_start_step()\n",
        "    action = get_random_action(step)\n",
        "    done = False\n",
        "\n",
        "    while not done:\n",
        "        next_step = generate_next_step(step, action)\n",
        "        if next_step['step_type'] == STEPTYPE_LAST:\n",
        "            state = step['observation']\n",
        "            idx1 = (state, action)\n",
        "            Q[idx1] = Q[idx1] + lr_rate * (next_step['reward'] - Q[idx1])\n",
        "            done = True\n",
        "        else:\n",
        "            best_action = get_greedy_action(next_step)\n",
        "            state = step['observation']\n",
        "            next_state = next_step['observation']\n",
        "            idx1 = (state, action)\n",
        "            idx2 = (next_state, best_action)\n",
        "            Q[idx1] = Q[idx1] + lr_rate * ((next_step['reward'] + gamma * Q[idx2]) - Q[idx1])\n",
        "\n",
        "            next_action = get_eps_soft_action(step)\n",
        "\n",
        "            step = next_step\n",
        "            action = next_action"
      ],
      "metadata": {
        "id": "cRn3jAg6ThgT"
      },
      "execution_count": 15,
      "outputs": []
    },
    {
      "cell_type": "code",
      "source": [
        "epi, actions, frames = generate_episode(policy_func=get_greedy_action)\n",
        "print_frames(frames)"
      ],
      "metadata": {
        "colab": {
          "base_uri": "https://localhost:8080/"
        },
        "id": "W0zwju10T0sv",
        "outputId": "547a7de3-1561-4641-90fb-985c7b792d49"
      },
      "execution_count": 16,
      "outputs": [
        {
          "output_type": "stream",
          "name": "stdout",
          "text": [
            "+---------+\n",
            "|R: | : :G|\n",
            "| : | : : |\n",
            "| : : : : |\n",
            "| | : | : |\n",
            "|Y| : |\u001b[35m\u001b[34;1m\u001b[43mB\u001b[0m\u001b[0m\u001b[0m: |\n",
            "+---------+\n",
            "  (Dropoff)\n",
            "\n"
          ]
        }
      ]
    },
    {
      "cell_type": "code",
      "source": [],
      "metadata": {
        "id": "m7tg1ACPUeN4"
      },
      "execution_count": null,
      "outputs": []
    }
  ]
}
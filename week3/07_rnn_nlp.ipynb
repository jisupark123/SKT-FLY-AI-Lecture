{
 "cells": [
  {
   "cell_type": "markdown",
   "metadata": {},
   "source": [
    "## 자연어 인코딩"
   ]
  },
  {
   "cell_type": "code",
   "execution_count": 4,
   "metadata": {},
   "outputs": [],
   "source": [
    "import numpy as np\n",
    "import pandas as pd\n",
    "import tensorflow as tf\n",
    "from tensorflow import keras\n",
    "import matplotlib.pyplot as plt\n",
    "import seaborn as sns\n",
    "import warnings\n",
    "warnings.filterwarnings('ignore')"
   ]
  },
  {
   "cell_type": "code",
   "execution_count": 1,
   "metadata": {},
   "outputs": [],
   "source": [
    "corpus = ['I love my dog', 'I love my cat', 'You love my dog!', 'Do you think my dog is amazing?']"
   ]
  },
  {
   "cell_type": "code",
   "execution_count": 5,
   "metadata": {},
   "outputs": [],
   "source": [
    "## Tokenizer\n",
    "\n",
    "from keras.preprocessing.text import Tokenizer\n",
    "\n",
    "# num_words: 단어 빈도수 순으로 몇 개의 단어를 사용할 것인지 지정, 101번째 단어부터는 제외\n",
    "# oov_token: out of vocabulary, 단어 집합에 없는 단어를 어떻게 할 것인지 지정 (num_words를 100으로 지정했을 때, 101번째 단어부터 <OOV>로 지정)\n",
    "tokenizer = Tokenizer(num_words=100, oov_token=\"<OOV>\")\n",
    "tokenizer.fit_on_texts(corpus)"
   ]
  },
  {
   "cell_type": "code",
   "execution_count": 7,
   "metadata": {},
   "outputs": [
    {
     "data": {
      "text/plain": [
       "{'<OOV>': 1,\n",
       " 'my': 2,\n",
       " 'love': 3,\n",
       " 'dog': 4,\n",
       " 'i': 5,\n",
       " 'you': 6,\n",
       " 'cat': 7,\n",
       " 'do': 8,\n",
       " 'think': 9,\n",
       " 'is': 10,\n",
       " 'amazing': 11}"
      ]
     },
     "execution_count": 7,
     "metadata": {},
     "output_type": "execute_result"
    }
   ],
   "source": [
    "# 단어 집합 출력\n",
    "# 많이 나온 순서대로 단어 집합을 만들어줌 (<OOV>는 맨 앞에 추가됨)\n",
    "tokenizer.word_index "
   ]
  },
  {
   "cell_type": "code",
   "execution_count": 8,
   "metadata": {},
   "outputs": [
    {
     "data": {
      "text/plain": [
       "[[5, 3, 2, 4], [5, 3, 2, 7], [6, 3, 2, 4], [8, 6, 9, 2, 4, 10, 11]]"
      ]
     },
     "execution_count": 8,
     "metadata": {},
     "output_type": "execute_result"
    }
   ],
   "source": [
    "# 위에서 구한 단어의 빈도를 기준으로 텍스트 데이터를 수치화\n",
    "tokenizer.texts_to_sequences(corpus)"
   ]
  },
  {
   "cell_type": "code",
   "execution_count": 11,
   "metadata": {},
   "outputs": [
    {
     "data": {
      "text/plain": [
       "array([[ 5,  3,  2,  4,  0],\n",
       "       [ 5,  3,  2,  7,  0],\n",
       "       [ 6,  3,  2,  4,  0],\n",
       "       [ 9,  2,  4, 10, 11]], dtype=int32)"
      ]
     },
     "execution_count": 11,
     "metadata": {},
     "output_type": "execute_result"
    }
   ],
   "source": [
    "# 길이를 모두 같게 맞춰줌, 문장의 길이가 짧을 때, 빈 부분을 채워줌\n",
    "# maxlen: 최대 길이 지정\n",
    "# padding='post': 뒤에 0을 채워줌\n",
    "\n",
    "\n",
    "from keras.utils import pad_sequences\n",
    "\n",
    "# padding='post': 뒤에 0을 채워줌\n",
    "# maxlen: 최대 길이 지정\n",
    "sequence = pad_sequences(tokenizer.texts_to_sequences(corpus), maxlen=5, padding='post')\n",
    "sequence"
   ]
  },
  {
   "cell_type": "markdown",
   "metadata": {},
   "source": [
    "## 임베딩"
   ]
  },
  {
   "cell_type": "code",
   "execution_count": 13,
   "metadata": {},
   "outputs": [
    {
     "name": "stdout",
     "output_type": "stream",
     "text": [
      "(4, 5, 12)\n"
     ]
    }
   ],
   "source": [
    "# one-hot encoding\n",
    "\n",
    "from keras.utils import to_categorical\n",
    "\n",
    "paded_o = to_categorical(sequence)\n",
    "print(paded_o.shape)"
   ]
  },
  {
   "cell_type": "code",
   "execution_count": null,
   "metadata": {},
   "outputs": [],
   "source": []
  }
 ],
 "metadata": {
  "kernelspec": {
   "display_name": "skt_fly_ai_tensorflow",
   "language": "python",
   "name": "python3"
  },
  "language_info": {
   "codemirror_mode": {
    "name": "ipython",
    "version": 3
   },
   "file_extension": ".py",
   "mimetype": "text/x-python",
   "name": "python",
   "nbconvert_exporter": "python",
   "pygments_lexer": "ipython3",
   "version": "3.8.18"
  }
 },
 "nbformat": 4,
 "nbformat_minor": 2
}

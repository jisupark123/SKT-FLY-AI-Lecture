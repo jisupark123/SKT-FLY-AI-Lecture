{
 "cells": [
  {
   "cell_type": "markdown",
   "id": "abe37352-4a88-4c11-b7db-c14b3afb7599",
   "metadata": {},
   "source": [
    "# The Simple Gridworld Problem"
   ]
  },
  {
   "cell_type": "code",
   "execution_count": 104,
   "id": "4963df85-6833-4292-b163-a0971ae7c056",
   "metadata": {},
   "outputs": [
    {
     "data": {
      "text/plain": [
       "(4, 12, 12)"
      ]
     },
     "execution_count": 104,
     "metadata": {},
     "output_type": "execute_result"
    }
   ],
   "source": [
    "import numpy as np\n",
    "\n",
    "P = np.array([\n",
    "    # up\n",
    "    # 0  1  2  3  4  5  6  7  8  9 10 11\n",
    "    [[1, 0, 0, 0, 0, 0, 0, 0, 0, 0, 0, 0],\n",
    "     [0, 1, 0, 0, 0, 0, 0, 0, 0, 0, 0, 0],\n",
    "     [0, 0, 1, 0, 0, 0, 0, 0, 0, 0, 0, 0],\n",
    "     [0, 0, 0, 1, 0, 0, 0, 0, 0, 0, 0, 0],\n",
    "     [1, 0, 0, 0, 0, 0, 0, 0, 0, 0, 0, 0],\n",
    "     [0, 0, 0, 0, 1, 0, 0, 0, 0, 0, 0, 0],\n",
    "     [0, 0, 0, 0, 0, 0, 1, 0, 0, 0, 0, 0],\n",
    "     [0, 0, 0, 0, 0, 1, 0, 0, 0, 0, 0, 0],\n",
    "     [0, 0, 0, 0, 0, 0, 1, 0, 0, 0, 0, 0],\n",
    "     [0, 0, 0, 0, 0, 0, 0, 0, 0, 1, 0, 0],\n",
    "     [0, 0, 0, 0, 0, 0, 0, 0, 0, 0, 0, 1],\n",
    "     [0, 0, 0, 0, 0, 0, 0, 0, 0, 0, 0, 1]],\n",
    "    \n",
    "    # down\n",
    "    # 0  1  2  3  4  5  6  7  8  9 10 11\n",
    "    [[0, 0, 0, 0, 1, 0, 0, 0, 0, 0, 0, 0],\n",
    "     [0, 1, 0, 0, 0, 0, 0, 0, 0, 0, 0, 0],\n",
    "     [0, 0, 1, 0, 0, 0, 0, 0, 0, 0, 0, 0],\n",
    "     [0, 0, 0, 1, 0, 0, 0, 0, 0, 0, 0, 0],\n",
    "     [0, 0, 0, 0, 0, 1, 0, 0, 0, 0, 0, 0],\n",
    "     [0, 0, 0, 0, 0, 0, 0, 1, 0, 0, 0, 0],\n",
    "     [0, 0, 0, 0, 0, 0, 0, 0, 1, 0, 0, 0],\n",
    "     [0, 0, 0, 0, 0, 0, 0, 1, 0, 0, 0, 0],\n",
    "     [0, 0, 0, 0, 0, 0, 0, 0, 1, 0, 0, 0],\n",
    "     [0, 0, 0, 0, 0, 0, 0, 0, 0, 1, 0, 0],\n",
    "     [0, 0, 0, 0, 0, 0, 0, 0, 0, 0, 1, 0],\n",
    "     [0, 0, 0, 0, 0, 0, 0, 0, 0, 0, 0, 1]],\n",
    "    \n",
    "    # left\n",
    "    # 0  1  2  3  4  5  6  7  8  9 10 11\n",
    "    [[1, 0, 0, 0, 0, 0, 0, 0, 0, 0, 0, 0],\n",
    "     [1, 0, 0, 0, 0, 0, 0, 0, 0, 0, 0, 0],\n",
    "     [0, 1, 0, 0, 0, 0, 0, 0, 0, 0, 0, 0],\n",
    "     [0, 0, 1, 0, 0, 0, 0, 0, 0, 0, 0, 0],\n",
    "     [0, 0, 0, 0, 1, 0, 0, 0, 0, 0, 0, 0],\n",
    "     [0, 0, 0, 0, 0, 1, 0, 0, 0, 0, 0, 0],\n",
    "     [0, 0, 0, 0, 0, 1, 0, 0, 0, 0, 0, 0],\n",
    "     [0, 0, 0, 0, 0, 0, 0, 1, 0, 0, 0, 0],\n",
    "     [0, 0, 0, 0, 0, 0, 0, 1, 0, 0, 0, 0],\n",
    "     [0, 0, 0, 0, 0, 0, 0, 0, 1, 0, 0, 0],\n",
    "     [0, 0, 0, 0, 0, 0, 0, 0, 0, 1, 0, 0],\n",
    "     [0, 0, 0, 0, 0, 0, 0, 0, 0, 0, 0, 1]],\n",
    "\n",
    "    # right\n",
    "    # 0  1  2  3  4  5  6  7  8  9 10 11\n",
    "    [[0, 1, 0, 0, 0, 0, 0, 0, 0, 0, 0, 0],\n",
    "     [0, 0, 1, 0, 0, 0, 0, 0, 0, 0, 0, 0],\n",
    "     [0, 0, 0, 1, 0, 0, 0, 0, 0, 0, 0, 0],\n",
    "     [0, 0, 0, 1, 0, 0, 0, 0, 0, 0, 0, 0],\n",
    "     [0, 0, 0, 0, 1, 0, 0, 0, 0, 0, 0, 0],\n",
    "     [0, 0, 0, 0, 0, 0, 1, 0, 0, 0, 0, 0],\n",
    "     [0, 0, 0, 0, 0, 0, 1, 0, 0, 0, 0, 0],\n",
    "     [0, 0, 0, 0, 0, 0, 0, 0, 1, 0, 0, 0],\n",
    "     [0, 0, 0, 0, 0, 0, 0, 0, 0, 1, 0, 0],\n",
    "     [0, 0, 0, 0, 0, 0, 0, 0, 0, 0, 1, 0],\n",
    "     [0, 0, 0, 0, 0, 0, 0, 0, 0, 0, 1, 0],\n",
    "     [0, 0, 0, 0, 0, 0, 0, 0, 0, 0, 0, 1]]], dtype='float32')\n",
    "\n",
    "P.shape"
   ]
  },
  {
   "cell_type": "code",
   "execution_count": 105,
   "id": "7a1e1a68-a51e-42a3-979a-2820637cdb46",
   "metadata": {},
   "outputs": [],
   "source": [
    "P = P.transpose(1, 0, 2)"
   ]
  },
  {
   "cell_type": "code",
   "execution_count": 106,
   "id": "86b6143f-dd03-4c30-b617-0f1e38fe967b",
   "metadata": {},
   "outputs": [
    {
     "data": {
      "text/plain": [
       "(12, 4, 12)"
      ]
     },
     "execution_count": 106,
     "metadata": {},
     "output_type": "execute_result"
    }
   ],
   "source": [
    "P.shape"
   ]
  },
  {
   "cell_type": "code",
   "execution_count": 107,
   "id": "3ce09b51-cf71-4e8e-b520-57de84fa68ac",
   "metadata": {
    "tags": []
   },
   "outputs": [],
   "source": [
    "R = np.array([\n",
    "    [-1, -1, -1, -1, -1, -1, -1, -1, -1, -1, 1, 0], # up\n",
    "    [-1, -1, -1, -1, -1, -1, -1, -1, -1, -1, -1, 0], # down\n",
    "    [-1, -1, -1, -1, -1, -1, -1, -1, -1, -1, -1, 0], # left\n",
    "    [-1, -1, -1, -1, -1, -1, -1, -1, -1, -1, -1, 0]], #right\n",
    "    dtype='float32')"
   ]
  },
  {
   "cell_type": "code",
   "execution_count": 108,
   "id": "b3e28746-7410-4bff-9536-4881de76bc7a",
   "metadata": {},
   "outputs": [
    {
     "data": {
      "text/plain": [
       "(4, 12)"
      ]
     },
     "execution_count": 108,
     "metadata": {},
     "output_type": "execute_result"
    }
   ],
   "source": [
    "R.shape"
   ]
  },
  {
   "cell_type": "code",
   "execution_count": 109,
   "id": "55e5d7a5-5312-4313-8949-44d0b4564dc8",
   "metadata": {},
   "outputs": [],
   "source": [
    "R = R.transpose()"
   ]
  },
  {
   "cell_type": "code",
   "execution_count": 110,
   "id": "ec0efe69-4c45-4a44-b4b9-e818b2d206a8",
   "metadata": {},
   "outputs": [
    {
     "data": {
      "text/plain": [
       "(12, 4)"
      ]
     },
     "execution_count": 110,
     "metadata": {},
     "output_type": "execute_result"
    }
   ],
   "source": [
    "R.shape"
   ]
  },
  {
   "cell_type": "code",
   "execution_count": 111,
   "id": "9f13bbae-9c52-4ca5-92ea-8da4b2618604",
   "metadata": {},
   "outputs": [
    {
     "data": {
      "text/plain": [
       "array([[0.25, 0.25, 0.25, 0.25],\n",
       "       [0.25, 0.25, 0.25, 0.25],\n",
       "       [0.25, 0.25, 0.25, 0.25],\n",
       "       [0.25, 0.25, 0.25, 0.25],\n",
       "       [0.25, 0.25, 0.25, 0.25],\n",
       "       [0.25, 0.25, 0.25, 0.25],\n",
       "       [0.25, 0.25, 0.25, 0.25],\n",
       "       [0.25, 0.25, 0.25, 0.25],\n",
       "       [0.25, 0.25, 0.25, 0.25],\n",
       "       [0.25, 0.25, 0.25, 0.25],\n",
       "       [0.25, 0.25, 0.25, 0.25],\n",
       "       [0.25, 0.25, 0.25, 0.25]], dtype=float32)"
      ]
     },
     "execution_count": 111,
     "metadata": {},
     "output_type": "execute_result"
    }
   ],
   "source": [
    "pi = np.ones((12, 4), dtype='float32') * 0.25\n",
    "pi"
   ]
  },
  {
   "cell_type": "code",
   "execution_count": 112,
   "id": "64a52d91-e7c2-46a2-bed7-b160d51423b1",
   "metadata": {},
   "outputs": [
    {
     "data": {
      "text/plain": [
       "(12, 4)"
      ]
     },
     "execution_count": 112,
     "metadata": {},
     "output_type": "execute_result"
    }
   ],
   "source": [
    "pi.shape"
   ]
  },
  {
   "cell_type": "markdown",
   "id": "653cf068-a4fa-4c61-938b-03821f02b244",
   "metadata": {},
   "source": [
    "### In summary,"
   ]
  },
  {
   "cell_type": "code",
   "execution_count": 113,
   "id": "9621be64-6454-46d5-89c9-4a7159fbc40a",
   "metadata": {},
   "outputs": [
    {
     "name": "stdout",
     "output_type": "stream",
     "text": [
      "[[-2.4998531 -2.4993482 -2.4998531 -2.4999666]\n",
      " [-2.4999666 -2.4999666 -2.4998531 -2.499992 ]\n",
      " [-2.499992  -2.499992  -2.4999666 -2.4999976]\n",
      " [-2.4999976 -2.4999976 -2.499992  -2.4999976]\n",
      " [-2.4998531 -2.497106  -2.4993482 -2.4993482]\n",
      " [-2.4993482 -2.492127  -2.497106  -2.492127 ]\n",
      " [-2.492127  -2.4661531 -2.497106  -2.492127 ]\n",
      " [-2.497106  -2.492127  -2.492127  -2.4661531]\n",
      " [-2.492127  -2.4661531 -2.492127  -2.3239489]\n",
      " [-2.3239489 -2.3239489 -2.4661531 -1.7122748]\n",
      " [ 1.        -1.7122748 -2.3239489 -1.7122748]\n",
      " [ 0.         0.         0.         0.       ]]\n",
      "[[-2.4020224  -2.336704   -2.4020224  -2.4412136 ]\n",
      " [-2.4412136  -2.4412136  -2.4020224  -2.4647284 ]\n",
      " [-2.4647284  -2.4647284  -2.4412136  -2.478837  ]\n",
      " [-2.478837   -2.478837   -2.4647284  -2.478837  ]\n",
      " [-2.4020224  -2.22784    -2.336704   -2.336704  ]\n",
      " [-2.336704   -2.0464     -2.22784    -2.0464    ]\n",
      " [-2.0464     -1.744      -2.22784    -2.0464    ]\n",
      " [-2.22784    -2.0464     -2.0464     -1.744     ]\n",
      " [-2.0464     -1.744      -2.0464     -1.24      ]\n",
      " [-1.24       -1.24       -1.744      -0.39999998]\n",
      " [ 1.         -0.39999998 -1.24       -0.39999998]\n",
      " [ 0.          0.          0.          0.        ]]\n",
      "[[0. 1. 0. 0.]\n",
      " [0. 0. 1. 0.]\n",
      " [0. 0. 1. 0.]\n",
      " [0. 0. 1. 0.]\n",
      " [0. 1. 0. 0.]\n",
      " [0. 1. 0. 0.]\n",
      " [0. 1. 0. 0.]\n",
      " [0. 0. 0. 1.]\n",
      " [0. 0. 0. 1.]\n",
      " [0. 0. 0. 1.]\n",
      " [1. 0. 0. 0.]\n",
      " [1. 0. 0. 0.]]\n"
     ]
    }
   ],
   "source": [
    "def policy_eval(P, R, pi, maxiter=30):\n",
    "    V = np.zeros((maxiter, 12), dtype='float32')\n",
    "    \n",
    "    for i in range(maxiter-1):\n",
    "        V[i+1] = np.squeeze(\n",
    "            np.matmul(\n",
    "                np.expand_dims( pi, 1 ), \n",
    "                np.expand_dims( R + 0.6 * np.dot(P, V[i]), 2 )))\n",
    "    \n",
    "    return V[maxiter-1]\n",
    "\n",
    "def policy_upd(P, R, v):\n",
    "    print(np.squeeze(np.expand_dims( R + 0.6 * np.dot(P, v), 2 )))\n",
    "    a_idx = np.argmax(np.squeeze(np.expand_dims( R + 0.6 * np.dot(P, v), 2 )), axis=1)\n",
    "    pi = np.zeros((12, 4), dtype='float32')\n",
    "    pi[range(12), a_idx] = 1.\n",
    "    return pi\n",
    "\n",
    "pi_old = None\n",
    "pi = np.ones((12, 4), dtype='float32') * 0.25\n",
    "\n",
    "while not np.all(np.equal(pi_old, pi)):\n",
    "    pi_old = pi.copy()\n",
    "    v = policy_eval(P, R, pi)\n",
    "    pi = policy_upd(P, R, v)\n",
    "    \n",
    "print(pi)"
   ]
  },
  {
   "cell_type": "code",
   "execution_count": null,
   "id": "80c01550-0ecb-4586-9840-7e035a1136aa",
   "metadata": {},
   "outputs": [],
   "source": []
  }
 ],
 "metadata": {
  "kernelspec": {
   "display_name": "Python 3 (ipykernel)",
   "language": "python",
   "name": "python3"
  },
  "language_info": {
   "codemirror_mode": {
    "name": "ipython",
    "version": 3
   },
   "file_extension": ".py",
   "mimetype": "text/x-python",
   "name": "python",
   "nbconvert_exporter": "python",
   "pygments_lexer": "ipython3",
   "version": "3.8.18"
  }
 },
 "nbformat": 4,
 "nbformat_minor": 5
}

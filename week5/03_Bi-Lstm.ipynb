{
 "cells": [
  {
   "cell_type": "code",
   "execution_count": 2,
   "metadata": {},
   "outputs": [
    {
     "data": {
      "text/html": [
       "<div>\n",
       "<style scoped>\n",
       "    .dataframe tbody tr th:only-of-type {\n",
       "        vertical-align: middle;\n",
       "    }\n",
       "\n",
       "    .dataframe tbody tr th {\n",
       "        vertical-align: top;\n",
       "    }\n",
       "\n",
       "    .dataframe thead th {\n",
       "        text-align: right;\n",
       "    }\n",
       "</style>\n",
       "<table border=\"1\" class=\"dataframe\">\n",
       "  <thead>\n",
       "    <tr style=\"text-align: right;\">\n",
       "      <th></th>\n",
       "      <th>의도(Intent)</th>\n",
       "      <th>개체명(NER)</th>\n",
       "      <th>질문(Query)</th>\n",
       "      <th>답변(Answer)</th>\n",
       "      <th>답변 이미지</th>\n",
       "    </tr>\n",
       "  </thead>\n",
       "  <tbody>\n",
       "    <tr>\n",
       "      <th>0</th>\n",
       "      <td>인사</td>\n",
       "      <td>NaN</td>\n",
       "      <td>안녕하세요</td>\n",
       "      <td>네 안녕하세요 :D\\n반갑습니다. 저는 챗봇입니다.</td>\n",
       "      <td>https://i.imgur.com/UluUFMp.jpg</td>\n",
       "    </tr>\n",
       "    <tr>\n",
       "      <th>1</th>\n",
       "      <td>인사</td>\n",
       "      <td>NaN</td>\n",
       "      <td>반가워요</td>\n",
       "      <td>네 안녕하세요 :D\\n반갑습니다. 저는 챗봇입니다.</td>\n",
       "      <td>https://i.imgur.com/UluUFMp.jpg</td>\n",
       "    </tr>\n",
       "    <tr>\n",
       "      <th>2</th>\n",
       "      <td>주문</td>\n",
       "      <td>B_FOOD</td>\n",
       "      <td>{B_FOOD} 주문할게요</td>\n",
       "      <td>{B_FOOD} 주문 처리 완료되었습니다. \\n주문해주셔서 감사합니다.</td>\n",
       "      <td>NaN</td>\n",
       "    </tr>\n",
       "    <tr>\n",
       "      <th>3</th>\n",
       "      <td>주문</td>\n",
       "      <td>B_FOOD</td>\n",
       "      <td>{B_FOOD} 주문할게요</td>\n",
       "      <td>{B_FOOD} 주문 처리 감사!!</td>\n",
       "      <td>NaN</td>\n",
       "    </tr>\n",
       "    <tr>\n",
       "      <th>4</th>\n",
       "      <td>예약</td>\n",
       "      <td>B_DT,B_TI</td>\n",
       "      <td>{B_DT} 예약</td>\n",
       "      <td>{B_DT}에 예약 접수 되었습니다.</td>\n",
       "      <td>NaN</td>\n",
       "    </tr>\n",
       "    <tr>\n",
       "      <th>5</th>\n",
       "      <td>욕설</td>\n",
       "      <td>NaN</td>\n",
       "      <td>NaN</td>\n",
       "      <td>욕하면 나빠요 ㅠ</td>\n",
       "      <td>NaN</td>\n",
       "    </tr>\n",
       "  </tbody>\n",
       "</table>\n",
       "</div>"
      ],
      "text/plain": [
       "  의도(Intent)   개체명(NER)       질문(Query)  \\\n",
       "0         인사        NaN           안녕하세요   \n",
       "1         인사        NaN            반가워요   \n",
       "2         주문     B_FOOD  {B_FOOD} 주문할게요   \n",
       "3         주문     B_FOOD  {B_FOOD} 주문할게요   \n",
       "4         예약  B_DT,B_TI       {B_DT} 예약   \n",
       "5         욕설        NaN             NaN   \n",
       "\n",
       "                                답변(Answer)                           답변 이미지  \n",
       "0             네 안녕하세요 :D\\n반갑습니다. 저는 챗봇입니다.  https://i.imgur.com/UluUFMp.jpg  \n",
       "1             네 안녕하세요 :D\\n반갑습니다. 저는 챗봇입니다.  https://i.imgur.com/UluUFMp.jpg  \n",
       "2  {B_FOOD} 주문 처리 완료되었습니다. \\n주문해주셔서 감사합니다.                              NaN  \n",
       "3                      {B_FOOD} 주문 처리 감사!!                              NaN  \n",
       "4                     {B_DT}에 예약 접수 되었습니다.                              NaN  \n",
       "5                                욕하면 나빠요 ㅠ                              NaN  "
      ]
     },
     "execution_count": 2,
     "metadata": {},
     "output_type": "execute_result"
    }
   ],
   "source": [
    "import pandas as pd\n",
    "\n",
    "df = pd.read_excel('https://docs.google.com/uc?export=download&id=1zqoaRTsObAKeNLq2EyPvQTITN8xWkoNY&confirm=t')\n",
    "df\n"
   ]
  },
  {
   "cell_type": "code",
   "execution_count": null,
   "metadata": {},
   "outputs": [],
   "source": []
  }
 ],
 "metadata": {
  "kernelspec": {
   "display_name": "skt_fly_ai_tensorflow",
   "language": "python",
   "name": "python3"
  },
  "language_info": {
   "codemirror_mode": {
    "name": "ipython",
    "version": 3
   },
   "file_extension": ".py",
   "mimetype": "text/x-python",
   "name": "python",
   "nbconvert_exporter": "python",
   "pygments_lexer": "ipython3",
   "version": "3.8.18"
  }
 },
 "nbformat": 4,
 "nbformat_minor": 2
}

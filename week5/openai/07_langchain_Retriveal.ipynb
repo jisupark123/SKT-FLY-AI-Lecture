{
 "cells": [
  {
   "cell_type": "code",
   "execution_count": 11,
   "metadata": {},
   "outputs": [],
   "source": [
    "import langchain\n",
    "from langchain.document_loaders import PyPDFLoader\n",
    "from langchain.text_splitter import RecursiveCharacterTextSplitter\n",
    "from langchain.chat_models import AzureChatOpenAI\n",
    "from langchain.vectorstores import Chroma\n",
    "from langchain.chains import RetrievalQA\n",
    "import openai\n",
    "import tiktoken\n",
    "import os\n",
    "import warnings\n",
    "warnings.filterwarnings('ignore')\n",
    "\n",
    "# 환경변수 세팅\n",
    "os.environ['OPENAI_API_KEY'] = '8c91c5c7058847f3820f9d7c12bbb1fb'\n",
    "os.environ['AZURE_OPENAI_ENDPOINT'] = 'https://sktfly-ai.openai.azure.com/'\n",
    "os.environ['OPENAI_API_TYPE'] = 'azure'\n",
    "os.environ['OPENAI_API_VERSION'] = '2023-05-15'"
   ]
  },
  {
   "cell_type": "code",
   "execution_count": 6,
   "metadata": {},
   "outputs": [],
   "source": [
    "loader = PyPDFLoader('data/K-패스 국토교통부 자료.pdf')\n",
    "pages = loader.load_and_split()\n",
    "\n",
    "tokenizer = tiktoken.get_encoding('cl100k_base')\n",
    "tiktoken_len = lambda x:len(tokenizer.encode(x))\n",
    "\n",
    "text_splitter = RecursiveCharacterTextSplitter(\n",
    "    chunk_size=500,\n",
    "    chunk_overlap=50,\n",
    "    length_function=tiktoken_len,\n",
    ")"
   ]
  },
  {
   "cell_type": "code",
   "execution_count": 8,
   "metadata": {},
   "outputs": [],
   "source": [
    "from langchain.embeddings import HuggingFaceEmbeddings\n",
    "\n",
    "model_name = 'jhgan/ko-sbert-nli'\n",
    "model_kwargs = {'device':'cpu'}\n",
    "encode_kwargs = {'normalize_embeddings':True}\n",
    "\n",
    "hf = HuggingFaceEmbeddings(\n",
    "    model_name = model_name,\n",
    "    model_kwargs = model_kwargs,\n",
    "    encode_kwargs = encode_kwargs\n",
    ")"
   ]
  },
  {
   "cell_type": "code",
   "execution_count": 10,
   "metadata": {},
   "outputs": [],
   "source": [
    "docs = text_splitter.split_documents(pages) # 문서를 적절한 크기로 나누어 준다.\n",
    "db = Chroma.from_documents(docs, hf) # 문서를 임베딩하여 벡터스토어를 만든다."
   ]
  },
  {
   "cell_type": "code",
   "execution_count": 12,
   "metadata": {},
   "outputs": [],
   "source": [
    "chatgpt = AzureChatOpenAI(\n",
    "    deployment_name='dev-gpt-35-turbo',\n",
    ")"
   ]
  },
  {
   "cell_type": "code",
   "execution_count": 15,
   "metadata": {},
   "outputs": [],
   "source": [
    "qa = RetrievalQA.from_chain_type(\n",
    "    llm=chatgpt,\n",
    "    chain_type='stuff',\n",
    "    retriever=db.as_retriever(\n",
    "        search_type='mmr',\n",
    "        search_kwargs={'k':3, 'fetch_k':10} # fetch_k개의 문서를 가져온 후, 그 중에서 k개를 선택한다.\n",
    "    ),\n",
    "    return_source_documents=True # 답변에 사용된 문서를 함께 반환한다.\n",
    ")"
   ]
  },
  {
   "cell_type": "code",
   "execution_count": 16,
   "metadata": {},
   "outputs": [
    {
     "name": "stderr",
     "output_type": "stream",
     "text": [
      "huggingface/tokenizers: The current process just got forked, after parallelism has already been used. Disabling parallelism to avoid deadlocks...\n",
      "To disable this warning, you can either:\n",
      "\t- Avoid using `tokenizers` before the fork if possible\n",
      "\t- Explicitly set the environment variable TOKENIZERS_PARALLELISM=(true | false)\n"
     ]
    },
    {
     "data": {
      "text/plain": [
       "{'query': '청년에게 가장 큰 혜택을 주는 카드사는?',\n",
       " 'result': '알뜰교통카드가 청년에게 가장 큰 혜택을 주는 카드사입니다.',\n",
       " 'source_documents': [Document(page_content='교통을 이용할 경우, 지출금액의 일정비율 일반인 청년층 ( 20%, 30%, \\n저소득층 53%) 을 다음 달에 돌려받을 수 있는 교통카드로 현재 시행 , \\n중인 알뜰교통카드의 이용 불편은 개선하고 혜택은 확대한 사업*이다.\\n    * 기존 알뜰교통카드 도보ㆍ자전거 등 이동거리에 비례하여 마일리지 환급[ : ] 출도착 기록 필요( )\\n개선 패스 이동거리 관계없이 지출금액의 일정 비율 환급[ : K- ] 출도착 기록 불필요( )\\nㅇ 예를 들어 매월 대중교통비 로 평균 만원7을 지출하는 사람이라면, \\n일반인은 만원 청년은 만원 저소득층은 만원 1.4 , 2.1 , 3.7 을 절감하여 \\n연간 기준으로는 17 만원~44 까지 아낄 수 있으며 카드사의 추가 할인 , \\n혜택최대 ( 10%) 까지 고려하면 교통비 절감 효과가 매우 크다 .\\n□ 알뜰교통카드 를 사용하고 있는 이용자는 패스로의 회원 전환 절차K-*를 \\n거치면 별도의 카드 재발급 없이 기존에 발급받은 교통카드를 그대로', metadata={'page': 0, 'source': 'data/K-패스 국토교통부 자료.pdf'}),\n",
       "  Document(page_content='패스K-를 사용한다면 전국 어디에서든 교통비 부담 을 획기적으로 덜 \\n수 있을 것 이라며” ,\\nㅇ 지자체 카드사 등 관계기관 협의 시스템 앱 개발 등 사업준비 절차를  “ · , ·\\n빈틈없이 이행하여 월에 패스를 차질없이 출시하고 각 지자체와 5 K- , \\n협력하여 패스를 기반으로 지역민 혜택은 더욱 강화할 수 있는 K- 지역\\n맞춤형 패스 사업K- 도 적극 발굴 해나갈 계획 이라고 밝혔다 ” .\\n담당 부서 대도시권광역교통위원회 책임자 과  장 백승록 (044-201-5080)\\n광역교통경제과 담당자 사무관 박태현 (044-201-5082)', metadata={'page': 1, 'source': 'data/K-패스 국토교통부 자료.pdf'}),\n",
       "  Document(page_content='성 주봉 화울 진울 릉, , , \\n경남(18)양산 거제김해밀양산청진주(‘19.6), · · · · · \\n창녕창원 통영고성· (’20.1), · (‘20.4), \\n사천함안 경남 전체· (’22.1) (‘23.1) → -\\n기타강원(18)춘천 강릉 원주(’21.6), (’22.1), (’22.6), \\n홍천양양· (‘23.7), \\n동해삼척태백횡성영월· · · · (’24.5)만명10 ~ -\\n만명5 10∼ 속초\\n만명~5평창 정선 철원, , , \\n화천, \\n양구 인제 고성, , \\n제주(2) 제주 서귀포 (’21.1), (’21.1) -\\n기초 시군구 숫자 개 는 행안부 지방자치단체 행정구역 및 인구 현황 자료의 개 기초 (229 ) ‘ (21.12.31)’ 226 ※ \\n지자체 수에 세종시 및 제주도 제주서귀포시 행정시자치구가 아닌 구 를 구분 집계한 숫자 · ( · ) (226+3)', metadata={'page': 3, 'source': 'data/K-패스 국토교통부 자료.pdf'})]}"
      ]
     },
     "execution_count": 16,
     "metadata": {},
     "output_type": "execute_result"
    }
   ],
   "source": [
    "query = '청년에게 가장 큰 혜택을 주는 카드사는?'\n",
    "\n",
    "result = qa(query)\n",
    "result"
   ]
  },
  {
   "cell_type": "code",
   "execution_count": null,
   "metadata": {},
   "outputs": [],
   "source": []
  }
 ],
 "metadata": {
  "kernelspec": {
   "display_name": "skt_fly_ai_chatbot",
   "language": "python",
   "name": "python3"
  },
  "language_info": {
   "codemirror_mode": {
    "name": "ipython",
    "version": 3
   },
   "file_extension": ".py",
   "mimetype": "text/x-python",
   "name": "python",
   "nbconvert_exporter": "python",
   "pygments_lexer": "ipython3",
   "version": "3.10.13"
  }
 },
 "nbformat": 4,
 "nbformat_minor": 2
}

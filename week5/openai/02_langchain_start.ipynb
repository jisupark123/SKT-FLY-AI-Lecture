{
  "cells": [
    {
      "cell_type": "code",
      "execution_count": 3,
      "metadata": {
        "id": "dJeFyW64l5ye"
      },
      "outputs": [],
      "source": [
        "import openai\n",
        "import langchain"
      ]
    },
    {
      "cell_type": "code",
      "execution_count": 4,
      "metadata": {
        "id": "9SV63v6PmHPf"
      },
      "outputs": [],
      "source": [
        "# 환경변수 세팅\n",
        "\n",
        "import os\n",
        "\n",
        "os.environ['OPENAI_API_KEY'] = '8c91c5c7058847f3820f9d7c12bbb1fb'\n",
        "os.environ['AZURE_OPENAI_ENDPOINT'] = 'https://sktfly-ai.openai.azure.com/'\n",
        "os.environ['OPENAI_API_TYPE'] = 'azure'\n",
        "os.environ['OPENAI_API_VERSION'] = '2023-05-15'\n",
        "\n"
      ]
    },
    {
      "cell_type": "code",
      "execution_count": 7,
      "metadata": {
        "colab": {
          "base_uri": "https://localhost:8080/",
          "height": 143
        },
        "id": "mr2nGlTHo1zT",
        "outputId": "fa16906c-f0df-4cbd-dc36-ec5c11387061"
      },
      "outputs": [
        {
          "data": {
            "application/vnd.google.colaboratory.intrinsic+json": {
              "type": "string"
            },
            "text/plain": [
              "'\\n\\nAamir Khan is one of the biggest superstars of Bollywood. With back-to-back hits and critically acclaimed performances, the actor has been ruling the hearts of the audience for over three decades now. Aamir Khan’s filmography is an eclectic mix of different genres and his performances have always been top-notch.\\n\\nHowever, there have been times when Aamir Khan has turned down films and the reasons behind it are quite interesting. Here we list down some of the films that Aamir Khan turned down and the reasons behind it:\\n\\n1. Darr\\n\\nAamir Khan was offered the role of Rahul in the Yash Chopra directorial Darr, but the actor turned down the film. Talking about why he refused the film, in an interview Aamir Khan had said that he did not want to play a negative character and he could not relate to the character of an obsessive lover that was offered to him.\\n\\n2. Josh\\n\\nThe role of Max which was played by Shah Rukh Khan in the film Josh was first offered to Aamir Khan. The actor turned down the film as he did not want to play the role of a villain.\\n\\n3. 1942: A Love Story\\n\\nAamir Khan was the original choice to'"
            ]
          },
          "execution_count": 7,
          "metadata": {},
          "output_type": "execute_result"
        }
      ],
      "source": [
        "from langchain.llms import AzureOpenAI\n",
        "\n",
        "llm = AzureOpenAI(deployment_name='dev-gpt-35-turbo-instruct')\n",
        "llm.invoke('hi')"
      ]
    },
    {
      "cell_type": "code",
      "execution_count": 12,
      "metadata": {
        "colab": {
          "base_uri": "https://localhost:8080/"
        },
        "id": "ix8EXtYgq0tP",
        "outputId": "fadc4ffd-9fda-43ed-e028-8ff849cd0e16"
      },
      "outputs": [
        {
          "name": "stdout",
          "output_type": "stream",
          "text": [
            "content='파이썬이 가장 인기 있는 언어인 이유는 다양한 프로그래밍 분야에서 유연하게 사용할 수 있고 간결하고 읽기 쉬운 문법을 갖추고 있기 때문입니다. 또한, 대규모 커뮤니티와 다양한 라이브러리, 프레임워크를 지원하고 있어서 빠르게 문제를 해결할 수 있습니다.'\n"
          ]
        }
      ],
      "source": [
        "from langchain.chat_models import AzureChatOpenAI\n",
        "\n",
        "chatgpt = AzureChatOpenAI(deployment_name='dev-gpt-35-turbo', temperature=1)\n",
        "ans = chatgpt.invoke('Why Python is the most popular language? answer with korean')\n",
        "\n",
        "print(ans)\n"
      ]
    },
    {
      "cell_type": "code",
      "execution_count": 14,
      "metadata": {
        "colab": {
          "base_uri": "https://localhost:8080/"
        },
        "id": "LMIKAAcj-Eot",
        "outputId": "37ec9a98-b65a-4f64-ca2e-e5b11ff82165"
      },
      "outputs": [
        {
          "name": "stdout",
          "output_type": "stream",
          "text": [
            "1. 문제를 잘 이해하고 파악한다.\n",
            "2. 입력과 출력의 형식을 이해한다.\n",
            "3. 가능한 모든 경우의 수를 고려한다.\n",
            "4. 문제를 해결할 수 있는 알고리즘을 고안한다.\n",
            "5. 알고리즘을 구현하고 테스트한다.\n",
            "6. 시간 복잡도와 공간 복잡도를 고려하여 최적화한다."
          ]
        },
        {
          "data": {
            "text/plain": [
              "AIMessage(content='1. 문제를 잘 이해하고 파악한다.\\n2. 입력과 출력의 형식을 이해한다.\\n3. 가능한 모든 경우의 수를 고려한다.\\n4. 문제를 해결할 수 있는 알고리즘을 고안한다.\\n5. 알고리즘을 구현하고 테스트한다.\\n6. 시간 복잡도와 공간 복잡도를 고려하여 최적화한다.')"
            ]
          },
          "execution_count": 14,
          "metadata": {},
          "output_type": "execute_result"
        }
      ],
      "source": [
        "# Streaming 방식으로 출력\n",
        "\n",
        "from langchain.callbacks.streaming_stdout import StreamingStdOutCallbackHandler\n",
        "\n",
        "chatgpt = AzureChatOpenAI(deployment_name='dev-gpt-35-turbo',\n",
        "                          temperature=1, streaming=True,\n",
        "                          callbacks=[StreamingStdOutCallbackHandler()]\n",
        "                          )\n",
        "\n",
        "chatgpt.invoke('알고리즘 문제를 잘 푸는 방법 answer with korean')"
      ]
    },
    {
      "cell_type": "code",
      "execution_count": 15,
      "metadata": {
        "colab": {
          "base_uri": "https://localhost:8080/",
          "height": 92
        },
        "id": "pxBr9rW0B2QE",
        "outputId": "78051d4b-1752-4906-dca0-647596a7d02a"
      },
      "outputs": [
        {
          "name": "stderr",
          "output_type": "stream",
          "text": [
            "/usr/local/lib/python3.10/dist-packages/langchain_core/_api/deprecation.py:117: LangChainDeprecationWarning: The function `__call__` was deprecated in LangChain 0.1.7 and will be removed in 0.2.0. Use invoke instead.\n",
            "  warn_deprecated(\n"
          ]
        },
        {
          "data": {
            "application/vnd.google.colaboratory.intrinsic+json": {
              "type": "string"
            },
            "text/plain": [
              "'이 지역에는 많은 사람들이 있어서 내 마음을 컨트롤할 수가 없어요.'"
            ]
          },
          "execution_count": 15,
          "metadata": {},
          "output_type": "execute_result"
        }
      ],
      "source": [
        "# 스키마 정의\n",
        "\n",
        "from langchain.schema import SystemMessage, AIMessage, HumanMessage\n",
        "\n",
        "chatgpt = AzureChatOpenAI(deployment_name='dev-gpt-35-turbo', temperature=0)\n",
        "\n",
        "messages = [\n",
        "    SystemMessage(content='You are a helpful assistant that translates English to Korean'),\n",
        "    HumanMessage(content=\"So many people in this area so I can't control my heart\"),\n",
        "]\n",
        "\n",
        "ans = chatgpt(messages)\n",
        "ans.content"
      ]
    },
    {
      "cell_type": "code",
      "execution_count": 16,
      "metadata": {
        "colab": {
          "base_uri": "https://localhost:8080/",
          "height": 36
        },
        "id": "jvLB1b7eD_Wl",
        "outputId": "ed19dee2-aaad-4713-f2dc-cc9e41a1753e"
      },
      "outputs": [
        {
          "data": {
            "application/vnd.google.colaboratory.intrinsic+json": {
              "type": "string"
            },
            "text/plain": [
              "'Tell me a joke about soccer'"
            ]
          },
          "execution_count": 16,
          "metadata": {},
          "output_type": "execute_result"
        }
      ],
      "source": [
        "# 완성형 언어 모델의 프롬프트\n",
        "\n",
        "from langchain.prompts import PromptTemplate, ChatPromptTemplate\n",
        "\n",
        "string_prompt = PromptTemplate.from_template('Tell me a joke about {subject}')\n",
        "string_prompt_value = string_prompt.format_prompt(subject='soccer')\n",
        "\n",
        "string_prompt_value.text"
      ]
    },
    {
      "cell_type": "code",
      "execution_count": 18,
      "metadata": {
        "colab": {
          "base_uri": "https://localhost:8080/",
          "height": 36
        },
        "id": "UaofYmT6OBi3",
        "outputId": "190398e7-24a7-4f93-cba9-6a37d14742db"
      },
      "outputs": [
        {
          "data": {
            "application/vnd.google.colaboratory.intrinsic+json": {
              "type": "string"
            },
            "text/plain": [
              "'Tell me a joke about soccer'"
            ]
          },
          "execution_count": 18,
          "metadata": {},
          "output_type": "execute_result"
        }
      ],
      "source": [
        "# 대화형 언어 모델의 프롬프트\n",
        "\n",
        "chat_prompt = ChatPromptTemplate.from_template('Tell me a joke about {subject}')\n",
        "chat_prompt_value = chat_prompt.format_prompt(subject='soccer')\n",
        "\n",
        "chat_prompt_value.messages[0].content"
      ]
    },
    {
      "cell_type": "code",
      "execution_count": 21,
      "metadata": {
        "colab": {
          "base_uri": "https://localhost:8080/"
        },
        "id": "o_fJk2PAO7jn",
        "outputId": "2d8b56a8-a033-43f1-de90-8f775c34d90b"
      },
      "outputs": [
        {
          "data": {
            "text/plain": [
              "PromptTemplate(input_variables=['재료'], template='\\n    너는 요리사다. 내가 가진 재료들을 가지고 만들 수 있는  요리를 추천하고 그 요리의 레시피를 제시해라. 내가 가진 재료는 아래와 같다.\\n    <재료>\\n    {재료}\\n')"
            ]
          },
          "execution_count": 21,
          "metadata": {},
          "output_type": "execute_result"
        }
      ],
      "source": [
        "template = '''\n",
        "    너는 요리사다. 내가 가진 재료들을 가지고 만들 수 있는  요리를 추천하고 그 요리의 레시피를 제시해라. 내가 가진 재료는 아래와 같다.\n",
        "    <재료>\n",
        "    {재료}\n",
        "'''\n",
        "\n",
        "prompt_template = PromptTemplate(\n",
        "    input_variables=['재료'],\n",
        "    template=template\n",
        ")\n",
        "\n",
        "prompt_template"
      ]
    },
    {
      "cell_type": "code",
      "execution_count": 22,
      "metadata": {
        "colab": {
          "base_uri": "https://localhost:8080/",
          "height": 145
        },
        "id": "d8dHtejtP5kK",
        "outputId": "61262e49-47b0-4a72-a028-e53b06f7ea99"
      },
      "outputs": [
        {
          "name": "stderr",
          "output_type": "stream",
          "text": [
            "/usr/local/lib/python3.10/dist-packages/langchain_core/_api/deprecation.py:117: LangChainDeprecationWarning: The function `__call__` was deprecated in LangChain 0.1.7 and will be removed in 0.2.0. Use invoke instead.\n",
            "  warn_deprecated(\n"
          ]
        },
        {
          "data": {
            "application/vnd.google.colaboratory.intrinsic+json": {
              "type": "string"
            },
            "text/plain": [
              "'   \\n\\n   ------------------------------------------------\\n\\n    뚝배기 소고기 된장찌개\\n\\n    <재료>\\n    배추, 소고기, 사골 육수, 버섯, 대파, 된장, 고추장, 마늘, 물\\n\\n    <레시피>\\n    1. 소고기는 먼저 찬물에 담가서 핏물을 빼고, 물기를 제거한 후 한 입 크기로 썬다.\\n    2. 뚝배기에 냉수를 넣고 된장과 고추장을 넣어 끓인다.\\n    3. 끓는 된장국에 소고기를 넣고 살짝 더 끓인다.\\n    4. 대파와 버섯을 넣고 끓인다.\\n    5. 배추를 넣고 끓인다.\\n    6. 마지막으로 사골 육수를 넣고 끓인다.\\n    7. 마지막으로 마늘을 넣고 끓인다.\\n    8. 불을 끄고 간장으로 간을 맞춘다.\\n    9. 뚝배기에 먹기 좋은 상태가 되면 불을 끄고 대파를 넣어 마무리한다.\\n\\n    맛있는 뚝배기 소고기 된장찌개가 완성되었습니다. 많이 드셔보세요!'"
            ]
          },
          "execution_count": 22,
          "metadata": {},
          "output_type": "execute_result"
        }
      ],
      "source": [
        "prompt = prompt_template.format(재료='배추,소고기,사골 육수,버섯,대파')\n",
        "\n",
        "from langchain.llms import AzureOpenAI\n",
        "from langchain.chat_models import AzureChatOpenAI\n",
        "\n",
        "llm = AzureOpenAI(\n",
        "    deployment_name='dev-gpt-35-turbo-instruct',\n",
        "    max_tokens=1000\n",
        ")\n",
        "\n",
        "llm(prompt)"
      ]
    },
    {
      "cell_type": "code",
      "execution_count": 25,
      "metadata": {
        "colab": {
          "base_uri": "https://localhost:8080/"
        },
        "id": "owVSo-EYR_uJ",
        "outputId": "c2e89f82-4d24-4e3e-99ed-385b3d6188a4"
      },
      "outputs": [
        {
          "data": {
            "text/plain": [
              "[SystemMessage(content='\\n    너는 요리사다. 내가 가진 재료들을 가지고 만들 수 있는  요리를 추천하고 그 요리의 레시피를 제시해라. 내가 가진 재료는 아래와 같다.\\n    <재료>\\n    배추,소고기,사골 육수,버섯,대파\\n'),\n",
              " HumanMessage(content='배추,소고기,사골 육수,버섯,대파')]"
            ]
          },
          "execution_count": 25,
          "metadata": {},
          "output_type": "execute_result"
        }
      ],
      "source": [
        "# 대화형 언어 모델의 템플릿 활용\n",
        "\n",
        "from langchain.prompts import ChatPromptTemplate, PromptTemplate, SystemMessagePromptTemplate, AIMessagePromptTemplate, HumanMessagePromptTemplate\n",
        "from langchain.schema import SystemMessage, AIMessage, HumanMessage\n",
        "\n",
        "system_template_prompt = SystemMessagePromptTemplate.from_template(template)\n",
        "human_template = '{재료}'\n",
        "\n",
        "human_message_prompt = HumanMessagePromptTemplate.from_template(human_template)\n",
        "\n",
        "# Chat Template\n",
        "\n",
        "chat_prompt = ChatPromptTemplate.from_messages([system_template_prompt, human_message_prompt])\n",
        "prompt = chat_prompt.format_prompt(재료='배추,소고기,사골 육수,버섯,대파').to_messages()\n",
        "prompt"
      ]
    },
    {
      "cell_type": "code",
      "execution_count": 27,
      "metadata": {
        "colab": {
          "base_uri": "https://localhost:8080/"
        },
        "id": "gsu9GTGTYYTz",
        "outputId": "4324b5fb-055d-4e5f-efab-84126e44259b"
      },
      "outputs": [
        {
          "name": "stdout",
          "output_type": "stream",
          "text": [
            "가지고 있는 재료들로 만들 수 있는 요리는 \"부대찌개\"입니다. 부대찌개는 한국의 전통 음식으로 소고기, 배추, 버섯, 대파 등을 사용하여 만드는 매운 탕요리입니다. 아래는 부대찌개의 레시피입니다.\n",
            "\n",
            "부대찌개 레시피:\n",
            "재료:\n",
            "- 배추 1/4개\n",
            "- 소고기 150g\n",
            "- 사골 육수 4컵\n",
            "- 버섯 5개\n",
            "- 대파 1대\n",
            "- 두부 100g\n",
            "- 라면 사리 1개 (선택적)\n",
            "- 순두부 150g (선택적)\n",
            "- 떡볶이 떡 100g (선택적)\n",
            "- 라면 스프 1개 (선택적)\n",
            "- 고추장 3큰술\n",
            "- 고춧가루 2큰술\n",
            "- 간장 1큰술\n",
            "- 다진 마늘 1큰술\n",
            "- 소금 1/2작은술\n",
            "- 참기름 1큰술\n",
            "- 깨소금 약간\n",
            "- 후추 약간\n",
            "\n",
            "1. 소고기는 먹기 좋은 크기로 썰어 소금, 후추, 다진 마늘로 밑간을 한다.\n",
            "2. 냄비에 사골 육수를 붓고 끓인 뒤, 밑간을 한 소고기를 넣어 끓인다.\n",
            "3. 소고기가 익으면 고추장, 고춧가루, 간장을 넣고 끓인다.\n",
            "4. 두부, 순두부, 떡볶이 떡, 라면 스프 등을 넣고 끓인다. (선택적)\n",
            "5. 대파, 버섯, 배추를 넣고 끓여 마무리한다.\n",
            "6. 마지막에 참기름과 깨소금을 뿌려 완성한다.\n",
            "\n",
            "이렇게 부대찌개를 만들어서 드시면 됩니다. 매운 음식을 좋아하신다면 고춧가루나 고추장의 양을 조절하여 맛을 조절하실 수 있습니다. 맛있게 드세요!\n"
          ]
        }
      ],
      "source": [
        "chatgpt = AzureChatOpenAI(deployment_name='dev-gpt-35-turbo')\n",
        "ans = chatgpt(prompt)\n",
        "\n",
        "print(ans.content)"
      ]
    },
    {
      "cell_type": "code",
      "execution_count": 42,
      "metadata": {
        "colab": {
          "base_uri": "https://localhost:8080/"
        },
        "id": "WqLzD_zFZ2Fp",
        "outputId": "9f10b607-fb82-421f-c5de-71993922d29a"
      },
      "outputs": [
        {
          "data": {
            "text/plain": [
              "FewShotPromptTemplate(input_variables=['input'], examples=[{'question': '뉴진스로 삼행시를 지어줘', 'answer': '\\n        뉴 뉴스에서\\n        진 진라면을 먹고 있는\\n        스 스님을 보았다.\\n        '}, {'question': '홍길동으로 삼행시를 지어줘', 'answer': '\\n        홍 홍게가 널브러져 있는\\n        길 길바닥에\\n        동 동그러니 놓여있는 세탁기 하나\\n        '}], example_prompt=PromptTemplate(input_variables=['answer', 'question'], template='Q: {question}\\nA: {answer}'), suffix='Question: {input}')"
            ]
          },
          "execution_count": 42,
          "metadata": {},
          "output_type": "execute_result"
        }
      ],
      "source": [
        "# Few-Shot learing template\n",
        "\n",
        "from langchain.prompts.few_shot import FewShotPromptTemplate\n",
        "from langchain.prompts import PromptTemplate\n",
        "\n",
        "examples = [\n",
        "    {\n",
        "        'question':'뉴진스로 삼행시를 지어줘',\n",
        "        'answer':'''\n",
        "        뉴 뉴스에서\n",
        "        진 진라면을 먹고 있는\n",
        "        스 스님을 보았다.\n",
        "        '''\n",
        "    },\n",
        "\n",
        "    {\n",
        "        'question':'홍길동으로 삼행시를 지어줘',\n",
        "        'answer':'''\n",
        "        홍 홍게가 널브러져 있는\n",
        "        길 길바닥에\n",
        "        동 동그러니 놓여있는 세탁기 하나\n",
        "        '''\n",
        "    }\n",
        "    ]\n",
        "\n",
        "example_prompt = PromptTemplate(input_variables=['question', 'answer'],\n",
        "                                template='Q: {question}\\nA: {answer}')\n",
        "\n",
        "prompt = FewShotPromptTemplate(\n",
        "    examples=examples,\n",
        "    example_prompt=example_prompt,\n",
        "    suffix='Question: {input}',\n",
        "    input_variables=['input']\n",
        ")\n",
        "\n",
        "prompt"
      ]
    },
    {
      "cell_type": "code",
      "execution_count": 43,
      "metadata": {
        "colab": {
          "base_uri": "https://localhost:8080/",
          "height": 54
        },
        "id": "pcrPiCPpdbz1",
        "outputId": "8e31c6bd-37d2-41fd-e3f0-f281df752b53"
      },
      "outputs": [
        {
          "data": {
            "application/vnd.google.colaboratory.intrinsic+json": {
              "type": "string"
            },
            "text/plain": [
              "'\\n손흥민은 축구의 신이야\\n그의 발놀림에 모두 놀라\\n모든 팬들이 그를 찬양해\\n손흥민은 최고의 슈팅스타\\n그의 드리블은 빠르고 강하고\\n모든 상대를 제압해\\n축구의 미래를 이끌어\\n손흥민은 영웅이야\\n축구장에서 그는 빛나\\n팬들의 사랑은 영원할거야\\n손흥민, 우리의 자랑이야'"
            ]
          },
          "execution_count": 43,
          "metadata": {},
          "output_type": "execute_result"
        }
      ],
      "source": [
        "# 템플릿 사용X\n",
        "\n",
        "llm.invoke('손흥민으로 삼행시를 지어줘')"
      ]
    },
    {
      "cell_type": "code",
      "execution_count": 44,
      "metadata": {
        "colab": {
          "base_uri": "https://localhost:8080/",
          "height": 36
        },
        "id": "IjSCyZE8eHzF",
        "outputId": "9d84540e-a174-4c48-d3d0-a67e23285c5d"
      },
      "outputs": [
        {
          "data": {
            "application/vnd.google.colaboratory.intrinsic+json": {
              "type": "string"
            },
            "text/plain": [
              "'\\nA: \\n        손 손을 걷어내고\\n        흥 흥분한 마음으로\\n        민 민트초코 아이스크림을 먹자'"
            ]
          },
          "execution_count": 44,
          "metadata": {},
          "output_type": "execute_result"
        }
      ],
      "source": [
        "llm(prompt.format(input='손흥민으로 삼행시를 지어줘'))"
      ]
    }
  ],
  "metadata": {
    "colab": {
      "provenance": []
    },
    "kernelspec": {
      "display_name": "Python 3",
      "name": "python3"
    },
    "language_info": {
      "codemirror_mode": {
        "name": "ipython",
        "version": 3
      },
      "file_extension": ".py",
      "mimetype": "text/x-python",
      "name": "python",
      "nbconvert_exporter": "python",
      "pygments_lexer": "ipython3",
      "version": "3.10.13"
    }
  },
  "nbformat": 4,
  "nbformat_minor": 0
}

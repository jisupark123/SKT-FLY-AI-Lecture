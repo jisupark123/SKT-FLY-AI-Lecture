{
 "cells": [
  {
   "cell_type": "code",
   "execution_count": 1,
   "metadata": {},
   "outputs": [],
   "source": [
    "import langchain\n",
    "import os\n",
    "import warnings\n",
    "warnings.filterwarnings('ignore')\n",
    "\n",
    "# 환경변수 세팅\n",
    "\n",
    "os.environ['OPENAI_API_KEY'] = '8c91c5c7058847f3820f9d7c12bbb1fb'\n",
    "os.environ['AZURE_OPENAI_ENDPOINT'] = 'https://sktfly-ai.openai.azure.com/'\n",
    "os.environ['OPENAI_API_TYPE'] = 'azure'\n",
    "os.environ['OPENAI_API_VERSION'] = '2023-05-15'"
   ]
  },
  {
   "cell_type": "code",
   "execution_count": 2,
   "metadata": {},
   "outputs": [],
   "source": [
    "import tiktoken\n",
    "\n",
    "tokenizer = tiktoken.get_encoding('cl100k_base')\n",
    "tiktoken_len = lambda x:len(tokenizer.encode(x))\n"
   ]
  },
  {
   "cell_type": "code",
   "execution_count": 3,
   "metadata": {},
   "outputs": [
    {
     "name": "stdout",
     "output_type": "stream",
     "text": [
      "19\n"
     ]
    }
   ],
   "source": [
    "from langchain.text_splitter import  RecursiveCharacterTextSplitter\n",
    "\n",
    "text_splitter = RecursiveCharacterTextSplitter(\n",
    "    chunk_size=130,\n",
    "    chunk_overlap=50,\n",
    "    length_function=tiktoken_len,\n",
    ")\n",
    "\n",
    "from langchain.document_loaders import  PyPDFLoader\n",
    "\n",
    "loader = PyPDFLoader('data/[정책브리프 2021-04] 탄소중립 대응을 위한 정부 정책과 동향.pdf')\n",
    "pages = loader.load_and_split()\n",
    "print(len(pages))\n",
    "\n"
   ]
  },
  {
   "cell_type": "code",
   "execution_count": 4,
   "metadata": {},
   "outputs": [],
   "source": [
    "from langchain.document_loaders import PyPDFLoader\n",
    "\n",
    "loader=PyPDFLoader('data/K-패스 국토교통부 자료.pdf')\n",
    "pages=loader.load_and_split()"
   ]
  },
  {
   "cell_type": "code",
   "execution_count": 5,
   "metadata": {},
   "outputs": [],
   "source": [
    "from langchain.embeddings import HuggingFaceEmbeddings\n",
    "\n",
    "model_name = 'jhgan/ko-sbert-nli'\n",
    "model_kwargs = {'device':'cpu'}\n",
    "encode_kwargs = {'normalize_embeddings':True}\n",
    "\n",
    "hf = HuggingFaceEmbeddings(\n",
    "    model_name = model_name,\n",
    "    model_kwargs = model_kwargs,\n",
    "    encode_kwargs = encode_kwargs\n",
    ")"
   ]
  },
  {
   "cell_type": "markdown",
   "metadata": {},
   "source": [
    "## Vector DB: Chroma"
   ]
  },
  {
   "cell_type": "code",
   "execution_count": 14,
   "metadata": {},
   "outputs": [],
   "source": [
    "!pip install chromadb -q"
   ]
  },
  {
   "cell_type": "code",
   "execution_count": 6,
   "metadata": {},
   "outputs": [],
   "source": [
    "from langchain.vectorstores import Chroma\n",
    "\n",
    "docs = text_splitter.split_documents(pages)\n",
    "\n",
    "db = Chroma.from_documents(docs, hf)"
   ]
  },
  {
   "cell_type": "code",
   "execution_count": 9,
   "metadata": {},
   "outputs": [
    {
     "name": "stdout",
     "output_type": "stream",
     "text": [
      "상품을 골라 패스를 이용할 수 있다 K- .\n",
      "    * 신한 하나 우리 현대 삼성 국민 농협 티머니 이동의즐거움 유페이 , , , , , BC, KB , NH , , , DGB\n",
      "----------------------------------------------------------------------------------------------------\n",
      "1\n"
     ]
    }
   ],
   "source": [
    "query = 'K-패스'\n",
    "docs_result = db.similarity_search(query) # 유사도 검색\n",
    "\n",
    "print(docs_result[0].page_content) # 가장 유사한 페이지 \n",
    "print('-' * 100)\n",
    "print(docs_result[0].metadata['page']) # 페이지 번호 "
   ]
  },
  {
   "cell_type": "code",
   "execution_count": 10,
   "metadata": {},
   "outputs": [
    {
     "name": "stdout",
     "output_type": "stream",
     "text": [
      "3\n"
     ]
    },
    {
     "data": {
      "text/plain": [
       "[(Document(page_content='상품을 골라 패스를 이용할 수 있다 K- .\\n    * 신한 하나 우리 현대 삼성 국민 농협 티머니 이동의즐거움 유페이 , , , , , BC, KB , NH , , , DGB', metadata={'page': 1, 'source': 'data/K-패스 국토교통부 자료.pdf'}),\n",
       "  0.36063458401955717),\n",
       " (Document(page_content='- 3 -참고1 패스 사업 개요 K-\\n□ (사업명칭 대중교통비 환급 지원 사업) 가칭 ( 패스K-)\\n□ (사업방식 알뜰교통카드의 ) 이동거리 기준 적립 방식을 없애고 ,', metadata={'page': 2, 'source': 'data/K-패스 국토교통부 자료.pdf'}),\n",
       "  0.3407083126868796),\n",
       " (Document(page_content='빈틈없이 이행하여 월에 패스를 차질없이 출시하고 각 지자체와 5 K- , \\n협력하여 패스를 기반으로 지역민 혜택은 더욱 강화할 수 있는 K- 지역\\n맞춤형 패스 사업K- 도 적극 발굴 해나갈 계획 이라고 밝혔다 ” .', metadata={'page': 1, 'source': 'data/K-패스 국토교통부 자료.pdf'}),\n",
       "  0.3310901911224511)]"
      ]
     },
     "execution_count": 10,
     "metadata": {},
     "output_type": "execute_result"
    }
   ],
   "source": [
    "docs_result = db.similarity_search_with_relevance_scores(query, k=3)\n",
    "print(len(docs_result))\n",
    "docs_result"
   ]
  },
  {
   "cell_type": "code",
   "execution_count": 11,
   "metadata": {},
   "outputs": [],
   "source": [
    "db = Chroma.from_documents(docs, hf, persist_directory='./chroma_db') # DB 저장"
   ]
  },
  {
   "cell_type": "code",
   "execution_count": 13,
   "metadata": {},
   "outputs": [
    {
     "data": {
      "text/plain": [
       "[Document(page_content='상품을 골라 패스를 이용할 수 있다 K- .\\n    * 신한 하나 우리 현대 삼성 국민 농협 티머니 이동의즐거움 유페이 , , , , , BC, KB , NH , , , DGB', metadata={'page': 1, 'source': 'data/K-패스 국토교통부 자료.pdf'}),\n",
       " Document(page_content='상품을 골라 패스를 이용할 수 있다 K- .\\n    * 신한 하나 우리 현대 삼성 국민 농협 티머니 이동의즐거움 유페이 , , , , , BC, KB , NH , , , DGB', metadata={'page': 1, 'source': 'data/K-패스 국토교통부 자료.pdf'}),\n",
       " Document(page_content='- 3 -참고1 패스 사업 개요 K-\\n□ (사업명칭 대중교통비 환급 지원 사업) 가칭 ( 패스K-)\\n□ (사업방식 알뜰교통카드의 ) 이동거리 기준 적립 방식을 없애고 ,', metadata={'page': 2, 'source': 'data/K-패스 국토교통부 자료.pdf'}),\n",
       " Document(page_content='- 3 -참고1 패스 사업 개요 K-\\n□ (사업명칭 대중교통비 환급 지원 사업) 가칭 ( 패스K-)\\n□ (사업방식 알뜰교통카드의 ) 이동거리 기준 적립 방식을 없애고 ,', metadata={'page': 2, 'source': 'data/K-패스 국토교통부 자료.pdf'})]"
      ]
     },
     "execution_count": 13,
     "metadata": {},
     "output_type": "execute_result"
    }
   ],
   "source": [
    "db2 = Chroma(persist_directory='./chroma_db', embedding_function=hf) # DB 로드\n",
    "docs_result = db2.similarity_search(query) # 유사도 검색\n",
    "docs_result"
   ]
  },
  {
   "cell_type": "markdown",
   "metadata": {},
   "source": [
    "## Vector DB: FAISS"
   ]
  },
  {
   "cell_type": "code",
   "execution_count": 14,
   "metadata": {},
   "outputs": [
    {
     "name": "stderr",
     "output_type": "stream",
     "text": [
      "huggingface/tokenizers: The current process just got forked, after parallelism has already been used. Disabling parallelism to avoid deadlocks...\n",
      "To disable this warning, you can either:\n",
      "\t- Avoid using `tokenizers` before the fork if possible\n",
      "\t- Explicitly set the environment variable TOKENIZERS_PARALLELISM=(true | false)\n"
     ]
    }
   ],
   "source": [
    "!pip install faiss-cpu -q"
   ]
  },
  {
   "cell_type": "code",
   "execution_count": 17,
   "metadata": {},
   "outputs": [
    {
     "data": {
      "text/plain": [
       "'Run more documents through the embeddings and add to the vectorstore.\\n\\n        Args:\\n            documents (List[Document]: Documents to add to the vectorstore.\\n\\n        Returns:\\n            List[str]: List of IDs of the added texts.\\n        '"
      ]
     },
     "execution_count": 17,
     "metadata": {},
     "output_type": "execute_result"
    }
   ],
   "source": [
    "from langchain.vectorstores import FAISS\n",
    "\n",
    "db = FAISS.from_documents(docs, hf)\n",
    "docs_result = db.similarity_search(query)\n",
    "docs_result"
   ]
  },
  {
   "cell_type": "code",
   "execution_count": null,
   "metadata": {},
   "outputs": [],
   "source": []
  }
 ],
 "metadata": {
  "kernelspec": {
   "display_name": "skt_fly_ai_chatbot",
   "language": "python",
   "name": "python3"
  },
  "language_info": {
   "codemirror_mode": {
    "name": "ipython",
    "version": 3
   },
   "file_extension": ".py",
   "mimetype": "text/x-python",
   "name": "python",
   "nbconvert_exporter": "python",
   "pygments_lexer": "ipython3",
   "version": "3.10.13"
  }
 },
 "nbformat": 4,
 "nbformat_minor": 2
}
